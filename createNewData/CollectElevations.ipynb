{
 "metadata": {
  "language_info": {
   "codemirror_mode": {
    "name": "ipython",
    "version": 3
   },
   "file_extension": ".py",
   "mimetype": "text/x-python",
   "name": "python",
   "nbconvert_exporter": "python",
   "pygments_lexer": "ipython3",
   "version": "3.8.8"
  },
  "orig_nbformat": 2,
  "kernelspec": {
   "name": "python388jvsc74a57bd0b3ba2566441a7c06988d0923437866b63cedc61552a5af99d1f4fb67d367b25f",
   "display_name": "Python 3.8.8 64-bit ('base': conda)"
  }
 },
 "nbformat": 4,
 "nbformat_minor": 2,
 "cells": [
  {
   "source": [
    "# Import all required Modules and custom build Classes into the Jupyter notebook"
   ],
   "cell_type": "markdown",
   "metadata": {}
  },
  {
   "cell_type": "code",
   "execution_count": 1,
   "metadata": {},
   "outputs": [],
   "source": [
    "import sys\n",
    "import os\n",
    "import json\n",
    "import time\n",
    "import pymongo\n",
    "import urllib\n",
    "import pandas as pd\n",
    "import numpy as np\n",
    "import urllib\n",
    "import urllib.request\n",
    "\n",
    "try:\n",
    "    import createNewData.data.config as in_config\n",
    "    from createNewData.pypackages.Azure import Azure\n",
    "    from createNewData.pypackages.urlHandler import UrlHandler\n",
    "    AzurePackage = Azure(in_config)\n",
    "    Url = UrlHandler(in_config)\n",
    "    \n",
    "    \n",
    "except ImportError as e:\n",
    "    print(\"Failed to import critical modules for this script.\")\n",
    "    print(\"Please confirm that files exist in the correct locations.\")\n",
    "    print(e)"
   ]
  },
  {
   "source": [
    "# Upload to SQL Database\n",
    "The below can upload an entire table from a txt or csv file to the Azure SQL Database.\n",
    "Required fields:\n",
    "* \"UploadToSQL\" is the class name for uploading tables to the database.\n",
    "* tablepath is the path the file is located in.\n",
    "* tablename is the name of the new table to be created."
   ],
   "cell_type": "markdown",
   "metadata": {}
  },
  {
   "cell_type": "code",
   "execution_count": null,
   "metadata": {},
   "outputs": [],
   "source": [
    "df = pd.read_csv(in_config.shapes)\n",
    "\n",
    "SqlDataCursor = AzurePackage(\"UploadToSQL\",\n",
    "                              df,\n",
    "                              \"shapes\")"
   ]
  },
  {
   "source": [
    "# Return All Unique Shape Id's From SQL Database\n",
    "The below collects all unique values in a specific column of a database.\n",
    "Required fields:\n",
    "* \"SelectDistinct\" is the class name for collecting the unique values.\n",
    "* shape_id is the column name.\n",
    "* [[dbo].[shapes]] is the name of the table to be queried."
   ],
   "cell_type": "markdown",
   "metadata": {}
  },
  {
   "cell_type": "code",
   "execution_count": 8,
   "metadata": {},
   "outputs": [],
   "source": [
    "shapeIds = AzurePackage(\"SelectDistinct\",\n",
    "                              \"shape_id\",\n",
    "                              \"[dbo].[shapes]\")"
   ]
  },
  {
   "source": [
    "# Collect Elevation Data and Upload to MongoDB\n",
    "The below collects the longtitude and lattitude for elevation data from the shapes table.\n",
    "It then generates and send the request to the open elevations URL.\n",
    "Finally it stores this data to the mongoDB database in Azure Cosmos."
   ],
   "cell_type": "markdown",
   "metadata": {}
  },
  {
   "cell_type": "code",
   "execution_count": 9,
   "metadata": {
    "tags": []
   },
   "outputs": [
    {
     "output_type": "error",
     "ename": "KeyboardInterrupt",
     "evalue": "",
     "traceback": [
      "\u001b[1;31m---------------------------------------------------------------------------\u001b[0m",
      "\u001b[1;31mKeyboardInterrupt\u001b[0m                         Traceback (most recent call last)",
      "\u001b[1;32m<ipython-input-9-98d5eb766a0e>\u001b[0m in \u001b[0;36m<module>\u001b[1;34m\u001b[0m\n\u001b[0;32m     12\u001b[0m \u001b[1;33m\u001b[0m\u001b[0m\n\u001b[0;32m     13\u001b[0m         \u001b[1;31m# Generate the Json document for upload to MongoDB\u001b[0m\u001b[1;33m\u001b[0m\u001b[1;33m\u001b[0m\u001b[1;33m\u001b[0m\u001b[0m\n\u001b[1;32m---> 14\u001b[1;33m         \u001b[0mshapeData\u001b[0m \u001b[1;33m=\u001b[0m \u001b[0mUrl\u001b[0m\u001b[1;33m(\u001b[0m\u001b[1;34m\"mineElevationData\"\u001b[0m\u001b[1;33m,\u001b[0m\u001b[0melevations\u001b[0m\u001b[1;33m)\u001b[0m\u001b[1;33m\u001b[0m\u001b[1;33m\u001b[0m\u001b[0m\n\u001b[0m\u001b[0;32m     15\u001b[0m     \u001b[1;32mexcept\u001b[0m \u001b[0murllib\u001b[0m\u001b[1;33m.\u001b[0m\u001b[0merror\u001b[0m\u001b[1;33m.\u001b[0m\u001b[0mHTTPError\u001b[0m \u001b[1;32mas\u001b[0m \u001b[0me\u001b[0m\u001b[1;33m:\u001b[0m\u001b[1;33m\u001b[0m\u001b[1;33m\u001b[0m\u001b[0m\n\u001b[0;32m     16\u001b[0m         \u001b[0mprint\u001b[0m\u001b[1;33m(\u001b[0m\u001b[0min_config\u001b[0m\u001b[1;33m.\u001b[0m\u001b[0mURLOOD\u001b[0m\u001b[1;33m)\u001b[0m\u001b[1;33m\u001b[0m\u001b[1;33m\u001b[0m\u001b[0m\n",
      "\u001b[1;32m~\\Documents\\MSc in Data Analytics\\Database and Ananytics\\Research Project\\dapTbElectricDublinBus\\createNewData\\pypackages\\urlHandler.py\u001b[0m in \u001b[0;36m__call__\u001b[1;34m(self, *args)\u001b[0m\n\u001b[0;32m     13\u001b[0m     \u001b[1;32mdef\u001b[0m \u001b[0m__call__\u001b[0m\u001b[1;33m(\u001b[0m\u001b[0mself\u001b[0m\u001b[1;33m,\u001b[0m \u001b[1;33m*\u001b[0m\u001b[0margs\u001b[0m\u001b[1;33m)\u001b[0m\u001b[1;33m:\u001b[0m\u001b[1;33m\u001b[0m\u001b[1;33m\u001b[0m\u001b[0m\n\u001b[0;32m     14\u001b[0m         \u001b[1;32mif\u001b[0m \u001b[0margs\u001b[0m\u001b[1;33m[\u001b[0m\u001b[1;36m0\u001b[0m\u001b[1;33m]\u001b[0m \u001b[1;33m==\u001b[0m \u001b[1;34m\"mineElevationData\"\u001b[0m\u001b[1;33m:\u001b[0m\u001b[1;33m\u001b[0m\u001b[1;33m\u001b[0m\u001b[0m\n\u001b[1;32m---> 15\u001b[1;33m             \u001b[1;32mreturn\u001b[0m \u001b[0mself\u001b[0m\u001b[1;33m.\u001b[0m\u001b[0mmineElevationData\u001b[0m\u001b[1;33m(\u001b[0m\u001b[0margs\u001b[0m\u001b[1;33m[\u001b[0m\u001b[1;36m1\u001b[0m\u001b[1;33m]\u001b[0m\u001b[1;33m)\u001b[0m\u001b[1;33m\u001b[0m\u001b[1;33m\u001b[0m\u001b[0m\n\u001b[0m\u001b[0;32m     16\u001b[0m         \u001b[1;32melif\u001b[0m \u001b[0margs\u001b[0m\u001b[1;33m[\u001b[0m\u001b[1;36m0\u001b[0m\u001b[1;33m]\u001b[0m \u001b[1;33m==\u001b[0m \u001b[1;34m\"callURL\"\u001b[0m\u001b[1;33m:\u001b[0m\u001b[1;33m\u001b[0m\u001b[1;33m\u001b[0m\u001b[0m\n\u001b[0;32m     17\u001b[0m             \u001b[1;32mreturn\u001b[0m \u001b[0mself\u001b[0m\u001b[1;33m.\u001b[0m\u001b[0mcallURL\u001b[0m\u001b[1;33m(\u001b[0m\u001b[0margs\u001b[0m\u001b[1;33m[\u001b[0m\u001b[1;36m1\u001b[0m\u001b[1;33m]\u001b[0m\u001b[1;33m,\u001b[0m \u001b[0margs\u001b[0m\u001b[1;33m[\u001b[0m\u001b[1;36m2\u001b[0m\u001b[1;33m]\u001b[0m\u001b[1;33m,\u001b[0m \u001b[0margs\u001b[0m\u001b[1;33m[\u001b[0m\u001b[1;36m3\u001b[0m\u001b[1;33m]\u001b[0m\u001b[1;33m)\u001b[0m\u001b[1;33m\u001b[0m\u001b[1;33m\u001b[0m\u001b[0m\n",
      "\u001b[1;32m~\\Documents\\MSc in Data Analytics\\Database and Ananytics\\Research Project\\dapTbElectricDublinBus\\createNewData\\pypackages\\urlHandler.py\u001b[0m in \u001b[0;36mmineElevationData\u001b[1;34m(self, shapeData)\u001b[0m\n\u001b[0;32m     41\u001b[0m         \u001b[0mdata\u001b[0m \u001b[1;33m=\u001b[0m \u001b[0mself\u001b[0m\u001b[1;33m.\u001b[0m\u001b[0mgenerateLocationRequest\u001b[0m\u001b[1;33m(\u001b[0m\u001b[0mshapeData\u001b[0m\u001b[1;33m)\u001b[0m\u001b[1;33m\u001b[0m\u001b[1;33m\u001b[0m\u001b[0m\n\u001b[0;32m     42\u001b[0m         \u001b[0mbody\u001b[0m \u001b[1;33m=\u001b[0m \u001b[0mstr\u001b[0m\u001b[1;33m.\u001b[0m\u001b[0mencode\u001b[0m\u001b[1;33m(\u001b[0m\u001b[0mjson\u001b[0m\u001b[1;33m.\u001b[0m\u001b[0mdumps\u001b[0m\u001b[1;33m(\u001b[0m\u001b[0mdata\u001b[0m\u001b[1;33m)\u001b[0m\u001b[1;33m)\u001b[0m\u001b[1;33m\u001b[0m\u001b[1;33m\u001b[0m\u001b[0m\n\u001b[1;32m---> 43\u001b[1;33m         \u001b[0mresponse\u001b[0m \u001b[1;33m=\u001b[0m \u001b[0mself\u001b[0m\u001b[1;33m.\u001b[0m\u001b[0mcallURL\u001b[0m\u001b[1;33m(\u001b[0m\u001b[0min_config\u001b[0m\u001b[1;33m.\u001b[0m\u001b[0murl\u001b[0m\u001b[1;33m,\u001b[0m \u001b[0mbody\u001b[0m\u001b[1;33m,\u001b[0m \u001b[0min_config\u001b[0m\u001b[1;33m.\u001b[0m\u001b[0melevHeaders\u001b[0m\u001b[1;33m)\u001b[0m\u001b[1;33m\u001b[0m\u001b[1;33m\u001b[0m\u001b[0m\n\u001b[0m\u001b[0;32m     44\u001b[0m         \u001b[0mjsonReadyData\u001b[0m \u001b[1;33m=\u001b[0m \u001b[0mresponse\u001b[0m\u001b[1;33m.\u001b[0m\u001b[0mread\u001b[0m\u001b[1;33m(\u001b[0m\u001b[1;33m)\u001b[0m\u001b[1;33m.\u001b[0m\u001b[0mdecode\u001b[0m\u001b[1;33m(\u001b[0m\u001b[1;34m'utf8'\u001b[0m\u001b[1;33m)\u001b[0m\u001b[1;33m.\u001b[0m\u001b[0mreplace\u001b[0m\u001b[1;33m(\u001b[0m\u001b[1;34m\"'\"\u001b[0m\u001b[1;33m,\u001b[0m \u001b[1;34m'\"'\u001b[0m\u001b[1;33m)\u001b[0m\u001b[1;33m\u001b[0m\u001b[1;33m\u001b[0m\u001b[0m\n\u001b[0;32m     45\u001b[0m         \u001b[0melevationData\u001b[0m \u001b[1;33m=\u001b[0m \u001b[0mjson\u001b[0m\u001b[1;33m.\u001b[0m\u001b[0mloads\u001b[0m\u001b[1;33m(\u001b[0m\u001b[0mjsonReadyData\u001b[0m\u001b[1;33m)\u001b[0m\u001b[1;33m\u001b[0m\u001b[1;33m\u001b[0m\u001b[0m\n",
      "\u001b[1;32m~\\Documents\\MSc in Data Analytics\\Database and Ananytics\\Research Project\\dapTbElectricDublinBus\\createNewData\\pypackages\\urlHandler.py\u001b[0m in \u001b[0;36mcallURL\u001b[1;34m(self, url, body, headers)\u001b[0m\n\u001b[0;32m     24\u001b[0m         \u001b[1;32melse\u001b[0m\u001b[1;33m:\u001b[0m\u001b[1;33m\u001b[0m\u001b[1;33m\u001b[0m\u001b[0m\n\u001b[0;32m     25\u001b[0m             \u001b[0mreq\u001b[0m \u001b[1;33m=\u001b[0m \u001b[0murllib\u001b[0m\u001b[1;33m.\u001b[0m\u001b[0mrequest\u001b[0m\u001b[1;33m.\u001b[0m\u001b[0mRequest\u001b[0m\u001b[1;33m(\u001b[0m\u001b[0murl\u001b[0m\u001b[1;33m,\u001b[0m \u001b[0mheaders\u001b[0m\u001b[1;33m=\u001b[0m\u001b[0mheaders\u001b[0m\u001b[1;33m)\u001b[0m\u001b[1;33m\u001b[0m\u001b[1;33m\u001b[0m\u001b[0m\n\u001b[1;32m---> 26\u001b[1;33m         \u001b[0mresponse\u001b[0m \u001b[1;33m=\u001b[0m \u001b[0murllib\u001b[0m\u001b[1;33m.\u001b[0m\u001b[0mrequest\u001b[0m\u001b[1;33m.\u001b[0m\u001b[0murlopen\u001b[0m\u001b[1;33m(\u001b[0m\u001b[0mreq\u001b[0m\u001b[1;33m)\u001b[0m\u001b[1;33m\u001b[0m\u001b[1;33m\u001b[0m\u001b[0m\n\u001b[0m\u001b[0;32m     27\u001b[0m         \u001b[1;32mreturn\u001b[0m \u001b[0mresponse\u001b[0m\u001b[1;33m\u001b[0m\u001b[1;33m\u001b[0m\u001b[0m\n\u001b[0;32m     28\u001b[0m \u001b[1;33m\u001b[0m\u001b[0m\n",
      "\u001b[1;32mC:\\ProgramData\\Anaconda3\\lib\\urllib\\request.py\u001b[0m in \u001b[0;36murlopen\u001b[1;34m(url, data, timeout, cafile, capath, cadefault, context)\u001b[0m\n\u001b[0;32m    220\u001b[0m     \u001b[1;32melse\u001b[0m\u001b[1;33m:\u001b[0m\u001b[1;33m\u001b[0m\u001b[1;33m\u001b[0m\u001b[0m\n\u001b[0;32m    221\u001b[0m         \u001b[0mopener\u001b[0m \u001b[1;33m=\u001b[0m \u001b[0m_opener\u001b[0m\u001b[1;33m\u001b[0m\u001b[1;33m\u001b[0m\u001b[0m\n\u001b[1;32m--> 222\u001b[1;33m     \u001b[1;32mreturn\u001b[0m \u001b[0mopener\u001b[0m\u001b[1;33m.\u001b[0m\u001b[0mopen\u001b[0m\u001b[1;33m(\u001b[0m\u001b[0murl\u001b[0m\u001b[1;33m,\u001b[0m \u001b[0mdata\u001b[0m\u001b[1;33m,\u001b[0m \u001b[0mtimeout\u001b[0m\u001b[1;33m)\u001b[0m\u001b[1;33m\u001b[0m\u001b[1;33m\u001b[0m\u001b[0m\n\u001b[0m\u001b[0;32m    223\u001b[0m \u001b[1;33m\u001b[0m\u001b[0m\n\u001b[0;32m    224\u001b[0m \u001b[1;32mdef\u001b[0m \u001b[0minstall_opener\u001b[0m\u001b[1;33m(\u001b[0m\u001b[0mopener\u001b[0m\u001b[1;33m)\u001b[0m\u001b[1;33m:\u001b[0m\u001b[1;33m\u001b[0m\u001b[1;33m\u001b[0m\u001b[0m\n",
      "\u001b[1;32mC:\\ProgramData\\Anaconda3\\lib\\urllib\\request.py\u001b[0m in \u001b[0;36mopen\u001b[1;34m(self, fullurl, data, timeout)\u001b[0m\n\u001b[0;32m    523\u001b[0m \u001b[1;33m\u001b[0m\u001b[0m\n\u001b[0;32m    524\u001b[0m         \u001b[0msys\u001b[0m\u001b[1;33m.\u001b[0m\u001b[0maudit\u001b[0m\u001b[1;33m(\u001b[0m\u001b[1;34m'urllib.Request'\u001b[0m\u001b[1;33m,\u001b[0m \u001b[0mreq\u001b[0m\u001b[1;33m.\u001b[0m\u001b[0mfull_url\u001b[0m\u001b[1;33m,\u001b[0m \u001b[0mreq\u001b[0m\u001b[1;33m.\u001b[0m\u001b[0mdata\u001b[0m\u001b[1;33m,\u001b[0m \u001b[0mreq\u001b[0m\u001b[1;33m.\u001b[0m\u001b[0mheaders\u001b[0m\u001b[1;33m,\u001b[0m \u001b[0mreq\u001b[0m\u001b[1;33m.\u001b[0m\u001b[0mget_method\u001b[0m\u001b[1;33m(\u001b[0m\u001b[1;33m)\u001b[0m\u001b[1;33m)\u001b[0m\u001b[1;33m\u001b[0m\u001b[1;33m\u001b[0m\u001b[0m\n\u001b[1;32m--> 525\u001b[1;33m         \u001b[0mresponse\u001b[0m \u001b[1;33m=\u001b[0m \u001b[0mself\u001b[0m\u001b[1;33m.\u001b[0m\u001b[0m_open\u001b[0m\u001b[1;33m(\u001b[0m\u001b[0mreq\u001b[0m\u001b[1;33m,\u001b[0m \u001b[0mdata\u001b[0m\u001b[1;33m)\u001b[0m\u001b[1;33m\u001b[0m\u001b[1;33m\u001b[0m\u001b[0m\n\u001b[0m\u001b[0;32m    526\u001b[0m \u001b[1;33m\u001b[0m\u001b[0m\n\u001b[0;32m    527\u001b[0m         \u001b[1;31m# post-process response\u001b[0m\u001b[1;33m\u001b[0m\u001b[1;33m\u001b[0m\u001b[1;33m\u001b[0m\u001b[0m\n",
      "\u001b[1;32mC:\\ProgramData\\Anaconda3\\lib\\urllib\\request.py\u001b[0m in \u001b[0;36m_open\u001b[1;34m(self, req, data)\u001b[0m\n\u001b[0;32m    540\u001b[0m \u001b[1;33m\u001b[0m\u001b[0m\n\u001b[0;32m    541\u001b[0m         \u001b[0mprotocol\u001b[0m \u001b[1;33m=\u001b[0m \u001b[0mreq\u001b[0m\u001b[1;33m.\u001b[0m\u001b[0mtype\u001b[0m\u001b[1;33m\u001b[0m\u001b[1;33m\u001b[0m\u001b[0m\n\u001b[1;32m--> 542\u001b[1;33m         result = self._call_chain(self.handle_open, protocol, protocol +\n\u001b[0m\u001b[0;32m    543\u001b[0m                                   '_open', req)\n\u001b[0;32m    544\u001b[0m         \u001b[1;32mif\u001b[0m \u001b[0mresult\u001b[0m\u001b[1;33m:\u001b[0m\u001b[1;33m\u001b[0m\u001b[1;33m\u001b[0m\u001b[0m\n",
      "\u001b[1;32mC:\\ProgramData\\Anaconda3\\lib\\urllib\\request.py\u001b[0m in \u001b[0;36m_call_chain\u001b[1;34m(self, chain, kind, meth_name, *args)\u001b[0m\n\u001b[0;32m    500\u001b[0m         \u001b[1;32mfor\u001b[0m \u001b[0mhandler\u001b[0m \u001b[1;32min\u001b[0m \u001b[0mhandlers\u001b[0m\u001b[1;33m:\u001b[0m\u001b[1;33m\u001b[0m\u001b[1;33m\u001b[0m\u001b[0m\n\u001b[0;32m    501\u001b[0m             \u001b[0mfunc\u001b[0m \u001b[1;33m=\u001b[0m \u001b[0mgetattr\u001b[0m\u001b[1;33m(\u001b[0m\u001b[0mhandler\u001b[0m\u001b[1;33m,\u001b[0m \u001b[0mmeth_name\u001b[0m\u001b[1;33m)\u001b[0m\u001b[1;33m\u001b[0m\u001b[1;33m\u001b[0m\u001b[0m\n\u001b[1;32m--> 502\u001b[1;33m             \u001b[0mresult\u001b[0m \u001b[1;33m=\u001b[0m \u001b[0mfunc\u001b[0m\u001b[1;33m(\u001b[0m\u001b[1;33m*\u001b[0m\u001b[0margs\u001b[0m\u001b[1;33m)\u001b[0m\u001b[1;33m\u001b[0m\u001b[1;33m\u001b[0m\u001b[0m\n\u001b[0m\u001b[0;32m    503\u001b[0m             \u001b[1;32mif\u001b[0m \u001b[0mresult\u001b[0m \u001b[1;32mis\u001b[0m \u001b[1;32mnot\u001b[0m \u001b[1;32mNone\u001b[0m\u001b[1;33m:\u001b[0m\u001b[1;33m\u001b[0m\u001b[1;33m\u001b[0m\u001b[0m\n\u001b[0;32m    504\u001b[0m                 \u001b[1;32mreturn\u001b[0m \u001b[0mresult\u001b[0m\u001b[1;33m\u001b[0m\u001b[1;33m\u001b[0m\u001b[0m\n",
      "\u001b[1;32mC:\\ProgramData\\Anaconda3\\lib\\urllib\\request.py\u001b[0m in \u001b[0;36mhttps_open\u001b[1;34m(self, req)\u001b[0m\n\u001b[0;32m   1395\u001b[0m \u001b[1;33m\u001b[0m\u001b[0m\n\u001b[0;32m   1396\u001b[0m         \u001b[1;32mdef\u001b[0m \u001b[0mhttps_open\u001b[0m\u001b[1;33m(\u001b[0m\u001b[0mself\u001b[0m\u001b[1;33m,\u001b[0m \u001b[0mreq\u001b[0m\u001b[1;33m)\u001b[0m\u001b[1;33m:\u001b[0m\u001b[1;33m\u001b[0m\u001b[1;33m\u001b[0m\u001b[0m\n\u001b[1;32m-> 1397\u001b[1;33m             return self.do_open(http.client.HTTPSConnection, req,\n\u001b[0m\u001b[0;32m   1398\u001b[0m                 context=self._context, check_hostname=self._check_hostname)\n\u001b[0;32m   1399\u001b[0m \u001b[1;33m\u001b[0m\u001b[0m\n",
      "\u001b[1;32mC:\\ProgramData\\Anaconda3\\lib\\urllib\\request.py\u001b[0m in \u001b[0;36mdo_open\u001b[1;34m(self, http_class, req, **http_conn_args)\u001b[0m\n\u001b[0;32m   1356\u001b[0m             \u001b[1;32mexcept\u001b[0m \u001b[0mOSError\u001b[0m \u001b[1;32mas\u001b[0m \u001b[0merr\u001b[0m\u001b[1;33m:\u001b[0m \u001b[1;31m# timeout error\u001b[0m\u001b[1;33m\u001b[0m\u001b[1;33m\u001b[0m\u001b[0m\n\u001b[0;32m   1357\u001b[0m                 \u001b[1;32mraise\u001b[0m \u001b[0mURLError\u001b[0m\u001b[1;33m(\u001b[0m\u001b[0merr\u001b[0m\u001b[1;33m)\u001b[0m\u001b[1;33m\u001b[0m\u001b[1;33m\u001b[0m\u001b[0m\n\u001b[1;32m-> 1358\u001b[1;33m             \u001b[0mr\u001b[0m \u001b[1;33m=\u001b[0m \u001b[0mh\u001b[0m\u001b[1;33m.\u001b[0m\u001b[0mgetresponse\u001b[0m\u001b[1;33m(\u001b[0m\u001b[1;33m)\u001b[0m\u001b[1;33m\u001b[0m\u001b[1;33m\u001b[0m\u001b[0m\n\u001b[0m\u001b[0;32m   1359\u001b[0m         \u001b[1;32mexcept\u001b[0m\u001b[1;33m:\u001b[0m\u001b[1;33m\u001b[0m\u001b[1;33m\u001b[0m\u001b[0m\n\u001b[0;32m   1360\u001b[0m             \u001b[0mh\u001b[0m\u001b[1;33m.\u001b[0m\u001b[0mclose\u001b[0m\u001b[1;33m(\u001b[0m\u001b[1;33m)\u001b[0m\u001b[1;33m\u001b[0m\u001b[1;33m\u001b[0m\u001b[0m\n",
      "\u001b[1;32mC:\\ProgramData\\Anaconda3\\lib\\http\\client.py\u001b[0m in \u001b[0;36mgetresponse\u001b[1;34m(self)\u001b[0m\n\u001b[0;32m   1345\u001b[0m         \u001b[1;32mtry\u001b[0m\u001b[1;33m:\u001b[0m\u001b[1;33m\u001b[0m\u001b[1;33m\u001b[0m\u001b[0m\n\u001b[0;32m   1346\u001b[0m             \u001b[1;32mtry\u001b[0m\u001b[1;33m:\u001b[0m\u001b[1;33m\u001b[0m\u001b[1;33m\u001b[0m\u001b[0m\n\u001b[1;32m-> 1347\u001b[1;33m                 \u001b[0mresponse\u001b[0m\u001b[1;33m.\u001b[0m\u001b[0mbegin\u001b[0m\u001b[1;33m(\u001b[0m\u001b[1;33m)\u001b[0m\u001b[1;33m\u001b[0m\u001b[1;33m\u001b[0m\u001b[0m\n\u001b[0m\u001b[0;32m   1348\u001b[0m             \u001b[1;32mexcept\u001b[0m \u001b[0mConnectionError\u001b[0m\u001b[1;33m:\u001b[0m\u001b[1;33m\u001b[0m\u001b[1;33m\u001b[0m\u001b[0m\n\u001b[0;32m   1349\u001b[0m                 \u001b[0mself\u001b[0m\u001b[1;33m.\u001b[0m\u001b[0mclose\u001b[0m\u001b[1;33m(\u001b[0m\u001b[1;33m)\u001b[0m\u001b[1;33m\u001b[0m\u001b[1;33m\u001b[0m\u001b[0m\n",
      "\u001b[1;32mC:\\ProgramData\\Anaconda3\\lib\\http\\client.py\u001b[0m in \u001b[0;36mbegin\u001b[1;34m(self)\u001b[0m\n\u001b[0;32m    305\u001b[0m         \u001b[1;31m# read until we get a non-100 response\u001b[0m\u001b[1;33m\u001b[0m\u001b[1;33m\u001b[0m\u001b[1;33m\u001b[0m\u001b[0m\n\u001b[0;32m    306\u001b[0m         \u001b[1;32mwhile\u001b[0m \u001b[1;32mTrue\u001b[0m\u001b[1;33m:\u001b[0m\u001b[1;33m\u001b[0m\u001b[1;33m\u001b[0m\u001b[0m\n\u001b[1;32m--> 307\u001b[1;33m             \u001b[0mversion\u001b[0m\u001b[1;33m,\u001b[0m \u001b[0mstatus\u001b[0m\u001b[1;33m,\u001b[0m \u001b[0mreason\u001b[0m \u001b[1;33m=\u001b[0m \u001b[0mself\u001b[0m\u001b[1;33m.\u001b[0m\u001b[0m_read_status\u001b[0m\u001b[1;33m(\u001b[0m\u001b[1;33m)\u001b[0m\u001b[1;33m\u001b[0m\u001b[1;33m\u001b[0m\u001b[0m\n\u001b[0m\u001b[0;32m    308\u001b[0m             \u001b[1;32mif\u001b[0m \u001b[0mstatus\u001b[0m \u001b[1;33m!=\u001b[0m \u001b[0mCONTINUE\u001b[0m\u001b[1;33m:\u001b[0m\u001b[1;33m\u001b[0m\u001b[1;33m\u001b[0m\u001b[0m\n\u001b[0;32m    309\u001b[0m                 \u001b[1;32mbreak\u001b[0m\u001b[1;33m\u001b[0m\u001b[1;33m\u001b[0m\u001b[0m\n",
      "\u001b[1;32mC:\\ProgramData\\Anaconda3\\lib\\http\\client.py\u001b[0m in \u001b[0;36m_read_status\u001b[1;34m(self)\u001b[0m\n\u001b[0;32m    266\u001b[0m \u001b[1;33m\u001b[0m\u001b[0m\n\u001b[0;32m    267\u001b[0m     \u001b[1;32mdef\u001b[0m \u001b[0m_read_status\u001b[0m\u001b[1;33m(\u001b[0m\u001b[0mself\u001b[0m\u001b[1;33m)\u001b[0m\u001b[1;33m:\u001b[0m\u001b[1;33m\u001b[0m\u001b[1;33m\u001b[0m\u001b[0m\n\u001b[1;32m--> 268\u001b[1;33m         \u001b[0mline\u001b[0m \u001b[1;33m=\u001b[0m \u001b[0mstr\u001b[0m\u001b[1;33m(\u001b[0m\u001b[0mself\u001b[0m\u001b[1;33m.\u001b[0m\u001b[0mfp\u001b[0m\u001b[1;33m.\u001b[0m\u001b[0mreadline\u001b[0m\u001b[1;33m(\u001b[0m\u001b[0m_MAXLINE\u001b[0m \u001b[1;33m+\u001b[0m \u001b[1;36m1\u001b[0m\u001b[1;33m)\u001b[0m\u001b[1;33m,\u001b[0m \u001b[1;34m\"iso-8859-1\"\u001b[0m\u001b[1;33m)\u001b[0m\u001b[1;33m\u001b[0m\u001b[1;33m\u001b[0m\u001b[0m\n\u001b[0m\u001b[0;32m    269\u001b[0m         \u001b[1;32mif\u001b[0m \u001b[0mlen\u001b[0m\u001b[1;33m(\u001b[0m\u001b[0mline\u001b[0m\u001b[1;33m)\u001b[0m \u001b[1;33m>\u001b[0m \u001b[0m_MAXLINE\u001b[0m\u001b[1;33m:\u001b[0m\u001b[1;33m\u001b[0m\u001b[1;33m\u001b[0m\u001b[0m\n\u001b[0;32m    270\u001b[0m             \u001b[1;32mraise\u001b[0m \u001b[0mLineTooLong\u001b[0m\u001b[1;33m(\u001b[0m\u001b[1;34m\"status line\"\u001b[0m\u001b[1;33m)\u001b[0m\u001b[1;33m\u001b[0m\u001b[1;33m\u001b[0m\u001b[0m\n",
      "\u001b[1;32mC:\\ProgramData\\Anaconda3\\lib\\socket.py\u001b[0m in \u001b[0;36mreadinto\u001b[1;34m(self, b)\u001b[0m\n\u001b[0;32m    667\u001b[0m         \u001b[1;32mwhile\u001b[0m \u001b[1;32mTrue\u001b[0m\u001b[1;33m:\u001b[0m\u001b[1;33m\u001b[0m\u001b[1;33m\u001b[0m\u001b[0m\n\u001b[0;32m    668\u001b[0m             \u001b[1;32mtry\u001b[0m\u001b[1;33m:\u001b[0m\u001b[1;33m\u001b[0m\u001b[1;33m\u001b[0m\u001b[0m\n\u001b[1;32m--> 669\u001b[1;33m                 \u001b[1;32mreturn\u001b[0m \u001b[0mself\u001b[0m\u001b[1;33m.\u001b[0m\u001b[0m_sock\u001b[0m\u001b[1;33m.\u001b[0m\u001b[0mrecv_into\u001b[0m\u001b[1;33m(\u001b[0m\u001b[0mb\u001b[0m\u001b[1;33m)\u001b[0m\u001b[1;33m\u001b[0m\u001b[1;33m\u001b[0m\u001b[0m\n\u001b[0m\u001b[0;32m    670\u001b[0m             \u001b[1;32mexcept\u001b[0m \u001b[0mtimeout\u001b[0m\u001b[1;33m:\u001b[0m\u001b[1;33m\u001b[0m\u001b[1;33m\u001b[0m\u001b[0m\n\u001b[0;32m    671\u001b[0m                 \u001b[0mself\u001b[0m\u001b[1;33m.\u001b[0m\u001b[0m_timeout_occurred\u001b[0m \u001b[1;33m=\u001b[0m \u001b[1;32mTrue\u001b[0m\u001b[1;33m\u001b[0m\u001b[1;33m\u001b[0m\u001b[0m\n",
      "\u001b[1;32mC:\\ProgramData\\Anaconda3\\lib\\ssl.py\u001b[0m in \u001b[0;36mrecv_into\u001b[1;34m(self, buffer, nbytes, flags)\u001b[0m\n\u001b[0;32m   1239\u001b[0m                   \u001b[1;34m\"non-zero flags not allowed in calls to recv_into() on %s\"\u001b[0m \u001b[1;33m%\u001b[0m\u001b[1;33m\u001b[0m\u001b[1;33m\u001b[0m\u001b[0m\n\u001b[0;32m   1240\u001b[0m                   self.__class__)\n\u001b[1;32m-> 1241\u001b[1;33m             \u001b[1;32mreturn\u001b[0m \u001b[0mself\u001b[0m\u001b[1;33m.\u001b[0m\u001b[0mread\u001b[0m\u001b[1;33m(\u001b[0m\u001b[0mnbytes\u001b[0m\u001b[1;33m,\u001b[0m \u001b[0mbuffer\u001b[0m\u001b[1;33m)\u001b[0m\u001b[1;33m\u001b[0m\u001b[1;33m\u001b[0m\u001b[0m\n\u001b[0m\u001b[0;32m   1242\u001b[0m         \u001b[1;32melse\u001b[0m\u001b[1;33m:\u001b[0m\u001b[1;33m\u001b[0m\u001b[1;33m\u001b[0m\u001b[0m\n\u001b[0;32m   1243\u001b[0m             \u001b[1;32mreturn\u001b[0m \u001b[0msuper\u001b[0m\u001b[1;33m(\u001b[0m\u001b[1;33m)\u001b[0m\u001b[1;33m.\u001b[0m\u001b[0mrecv_into\u001b[0m\u001b[1;33m(\u001b[0m\u001b[0mbuffer\u001b[0m\u001b[1;33m,\u001b[0m \u001b[0mnbytes\u001b[0m\u001b[1;33m,\u001b[0m \u001b[0mflags\u001b[0m\u001b[1;33m)\u001b[0m\u001b[1;33m\u001b[0m\u001b[1;33m\u001b[0m\u001b[0m\n",
      "\u001b[1;32mC:\\ProgramData\\Anaconda3\\lib\\ssl.py\u001b[0m in \u001b[0;36mread\u001b[1;34m(self, len, buffer)\u001b[0m\n\u001b[0;32m   1097\u001b[0m         \u001b[1;32mtry\u001b[0m\u001b[1;33m:\u001b[0m\u001b[1;33m\u001b[0m\u001b[1;33m\u001b[0m\u001b[0m\n\u001b[0;32m   1098\u001b[0m             \u001b[1;32mif\u001b[0m \u001b[0mbuffer\u001b[0m \u001b[1;32mis\u001b[0m \u001b[1;32mnot\u001b[0m \u001b[1;32mNone\u001b[0m\u001b[1;33m:\u001b[0m\u001b[1;33m\u001b[0m\u001b[1;33m\u001b[0m\u001b[0m\n\u001b[1;32m-> 1099\u001b[1;33m                 \u001b[1;32mreturn\u001b[0m \u001b[0mself\u001b[0m\u001b[1;33m.\u001b[0m\u001b[0m_sslobj\u001b[0m\u001b[1;33m.\u001b[0m\u001b[0mread\u001b[0m\u001b[1;33m(\u001b[0m\u001b[0mlen\u001b[0m\u001b[1;33m,\u001b[0m \u001b[0mbuffer\u001b[0m\u001b[1;33m)\u001b[0m\u001b[1;33m\u001b[0m\u001b[1;33m\u001b[0m\u001b[0m\n\u001b[0m\u001b[0;32m   1100\u001b[0m             \u001b[1;32melse\u001b[0m\u001b[1;33m:\u001b[0m\u001b[1;33m\u001b[0m\u001b[1;33m\u001b[0m\u001b[0m\n\u001b[0;32m   1101\u001b[0m                 \u001b[1;32mreturn\u001b[0m \u001b[0mself\u001b[0m\u001b[1;33m.\u001b[0m\u001b[0m_sslobj\u001b[0m\u001b[1;33m.\u001b[0m\u001b[0mread\u001b[0m\u001b[1;33m(\u001b[0m\u001b[0mlen\u001b[0m\u001b[1;33m)\u001b[0m\u001b[1;33m\u001b[0m\u001b[1;33m\u001b[0m\u001b[0m\n",
      "\u001b[1;31mKeyboardInterrupt\u001b[0m: "
     ]
    }
   ],
   "source": [
    "shapeList = []\n",
    "AzurePackage(\"DropMongoColl\",\"shapes\")\n",
    "for each in shapeIds.iterrows():\n",
    "    try:\n",
    "        # Generate the Pandas table of all the Longtitudes and Latitudes\n",
    "        # for each shape\n",
    "        elevations = AzurePackage(\"SelectLongLat\",\n",
    "                                \"[shape_id],[shape_pt_lat],[shape_pt_lon]\",\n",
    "                                \"[dbo].[shapes]\",\n",
    "                                \"[shape_id]\",\n",
    "                                each[1][0])\n",
    "\n",
    "        # Generate the Json document for upload to MongoDB\n",
    "        shapeData = Url(\"mineElevationData\",elevations)\n",
    "    except urllib.error.HTTPError as e:\n",
    "        print(in_config.URLOOD)\n",
    "        print(e)\n",
    "\n",
    "    try:\n",
    "        # Upload the Json document to MongoDB\n",
    "        if not len(shapeData) == 0:\n",
    "            AzurePackage(\"UploadToMongo\",\"shapes\",shapeData)\n",
    "        else:\n",
    "            raise Exception(in_config.NDIDF)\n",
    "    except TypeError as e:\n",
    "        print(in_config.TEC)\n",
    "    except pymongo.errors.DuplicateKeyError as e:\n",
    "        print(in_config.FIDB)\n",
    "    except Exception as e:\n",
    "        print(in_config.UNKMGO)\n",
    "        print(e)\n",
    "\n"
   ]
  },
  {
   "source": [
    "# Read Data From MongoDB and Write to Pandas DataFrame\n",
    "This reads data from the raw Json files in the MongoDB database and imports them to a dataframe that contains only unique values. \n",
    "Removing any rows where any full row duplicates exist.<br />\n",
    "Finally, this tests that all the elevation data was collected correctly by summing the values of the elevations and therefore ruling out any NaN values. An exception will be raised here in the final script to indicate that the elevation collection was unsuccessfull."
   ],
   "cell_type": "markdown",
   "metadata": {}
  },
  {
   "cell_type": "code",
   "execution_count": 10,
   "metadata": {
    "tags": []
   },
   "outputs": [
    {
     "output_type": "stream",
     "name": "stdout",
     "text": [
      "Elevations collected correctly\n    latitude  elevation  longitude\n0  53.391176         55  -6.262199\n1  53.391189         55  -6.262439\n2  53.391871         59  -6.262366\n3  53.391854         59  -6.260548\n4  53.391815         58  -6.259722\n"
     ]
    }
   ],
   "source": [
    "listOfObjects = []\n",
    "listOfElevations = []\n",
    "\n",
    "\n",
    "try:\n",
    "    dbcollections = AzurePackage(\"SelectFromMongo\")\n",
    "    for each in dbcollections.find():\n",
    "        for key, value in each.items():\n",
    "            if type(value) is list:\n",
    "                listOfObjects.append(value)\n",
    "        \n",
    "\n",
    "    for each in listOfObjects:\n",
    "        for elevation in each:\n",
    "            listOfElevations.append(elevation)\n",
    "\n",
    "    df = pd.DataFrame(listOfElevations)\n",
    "    dfTrimmed = df.drop_duplicates()\n",
    "    sumElevation = dfTrimmed[\"elevation\"].sum()\n",
    "    if type(sumElevation) in [np.int64,int]:\n",
    "        print(\"Elevations collected correctly\")\n",
    "        print(dfTrimmed.head())\n",
    "    else: \n",
    "        raise Exception(\"Failed to collect all elevations, please try again.\")\n",
    "except KeyError as e:\n",
    "    print(f\"Column {e} cannot be found in the dataframe.\")\n",
    "except NameError as e:\n",
    "    print(f\"The Datatable {e} cannot be found.\")\n",
    "except Exception as e:\n",
    "    print(in_config.UNKMGO)\n",
    "    print(e)"
   ]
  },
  {
   "source": [
    "# Upload Trimmed Elevations DataFrame to SQL\n",
    "\n",
    "This saves the resulting SQL schemata to the development database.\n",
    "This will overwrite any existing data in the SQL schemata that already exists.\n"
   ],
   "cell_type": "markdown",
   "metadata": {}
  },
  {
   "cell_type": "code",
   "execution_count": 7,
   "metadata": {},
   "outputs": [],
   "source": [
    "SqlDataCursor = AzurePackage(\"UploadToSQL\",\n",
    "                              dfTrimmed,\n",
    "                              \"elevations\",\n",
    "                              in_config.connQuote)"
   ]
  },
  {
   "source": [
    "# Collect real time data and upload to Mongo\n",
    "This collects the real time data as a json file and overwrites the collection in the mongoDB database.\n",
    "* URL used https://gtfsr.transportforireland.ie\n"
   ],
   "cell_type": "markdown",
   "metadata": {}
  },
  {
   "cell_type": "code",
   "execution_count": 11,
   "metadata": {
    "tags": []
   },
   "outputs": [
    {
     "output_type": "stream",
     "name": "stdout",
     "text": [
      "An error occured while attempting to write the GTFS data to Mongo DB.\n<class 'pymongo.errors.WriteError'>\n"
     ]
    }
   ],
   "source": [
    "url = in_config.url2\n",
    "headers = in_config.RTIheaders\n",
    "response = Url(\"callURL\", url, {}, headers)\n",
    "JsonData = response.read().decode('utf8').replace(\"'\", '\"')\n",
    "RTIgtfs = json.loads(JsonData)\n",
    "try:\n",
    "    AzurePackage(\"DropMongoColl\",\"RTIgtfs\")\n",
    "    AzurePackage(\"UploadToMongo\",\"RTIgtfs\",RTIgtfs)\n",
    "except pymongo.errors.WriteError as e:\n",
    "    print(\"An error occured while attempting to write the GTFS data to Mongo DB.\")\n",
    "    print(type(e))\n"
   ]
  },
  {
   "source": [
    "# Save Trimmed Elevation Data Team SQL Database\n",
    "This reads data from the raw Json files in the MongoDB database and imports them to a dataframe that contains only unique values. Removing any rows where any full row duplicates exist.\n",
    "This saves the resulting SQL schemata to the Database used by the R-Shiny app. (Production)\n",
    "This will overwrite any existing data in the SQL schemata that already exists."
   ],
   "cell_type": "markdown",
   "metadata": {}
  },
  {
   "cell_type": "code",
   "execution_count": 12,
   "metadata": {},
   "outputs": [],
   "source": [
    "SqlDataCursor = AzurePackage(\"UploadToSQL\",\n",
    "                              dfTrimmed,\n",
    "                              \"elevations\",\n",
    "                              in_config.teamConnQuote)"
   ]
  },
  {
   "source": [
    "# Connect the shape and elevation schema together by joining their longtitude and latatude values\n",
    "This will either be a method in the Rshiny app to collect or we simply create a new database from this data but this seems a bit verbose."
   ],
   "cell_type": "markdown",
   "metadata": {}
  },
  {
   "cell_type": "code",
   "execution_count": null,
   "metadata": {},
   "outputs": [],
   "source": [
    "conn = AzurePackage(\"AzureDBConn\", in_config.connQuote)\n",
    "SQLString = in_config.SQLElevation\n",
    "df = pd.read_sql(SQLString, conn)\n",
    "conn.close()"
   ]
  },
  {
   "cell_type": "code",
   "execution_count": 23,
   "metadata": {},
   "outputs": [
    {
     "output_type": "execute_result",
     "data": {
      "text/plain": [
       "numpy.int64"
      ]
     },
     "metadata": {},
     "execution_count": 23
    }
   ],
   "source": [
    "type(dfTrimmed[\"elevation\"].sum())"
   ]
  },
  {
   "cell_type": "code",
   "execution_count": 13,
   "metadata": {
    "tags": [
     "outputPrepend"
    ]
   },
   "outputs": [
    {
     "output_type": "stream",
     "name": "stdout",
     "text": [
      ", (224171, 53.1861810561571, 64, -6.0990859383447305), (224173, 53.185702444418, 54, -6.10289303589498), (224174, 53.1855533853204, 54, -6.103692712377501), (224175, 53.185352093159196, 56, -6.10459943514984), (224177, 53.1846300261921, 54, -6.107803596682969), (224178, 53.1844074538783, 49, -6.10907034444654), (224180, 53.184281300467205, 49, -6.11018320301047), (224181, 53.184177843356295, 46, -6.11159432892622), (224182, 53.1841316430359, 47, -6.11605549878585), (224183, 53.1840692458675, 51, -6.117225389270179), (224184, 53.183978000257795, 51, -6.1182768312604), (224186, 53.18379384208961, 52, -6.1197064201379), (224187, 53.1835371002671, 52, -6.1210942796395305), (224188, 53.183183893432506, 64, -6.122635968450849), (224189, 53.1829110681164, 65, -6.12357559882707), (224191, 53.18254272565479, 65, -6.124728866926691), (224192, 53.181940317195604, 65, -6.12643098092064), (224193, 53.18172822203, 67, -6.1272332490316295), (224194, 53.181555340974796, 67, -6.12824327788903), (224196, 53.181507555888395, 67, -6.1286343866858), (224197, 53.18147227510121, 65, -6.12924938915598), (224198, 53.18137323402821, 65, -6.12923873744193), (224199, 53.1812756021315, 65, -6.1293177995807895), (224200, 53.18120726570889, 75, -6.129545211353281), (224201, 53.1812370306736, 75, -6.129723466140571), (224202, 53.181283351405895, 65, -6.12981122566693), (224203, 53.181374584004004, 65, -6.12989703123516), (224204, 53.1814194959326, 65, -6.1298950770822795), (224205, 53.1815084894008, 65, -6.13098347487857), (224206, 53.1816469112496, 65, -6.131785438510821), (224207, 53.1818496111939, 65, -6.13267439068655), (224208, 53.181892338710796, 65, -6.133106453490651), (224209, 53.1818767176509, 65, -6.13325675926165), (224210, 53.1818958542572, 65, -6.1333307417485186), (224211, 53.1819781019841, 73, -6.13341694614409), (224212, 53.1825532100851, 73, -6.13340693189011), (224213, 53.18297702337539, 73, -6.1334932668269895), (224215, 53.183359204998396, 50, -6.1337908966996695), (224216, 53.183707330352895, 50, -6.13420971726138), (224217, 53.183957584587795, 50, -6.13469264635928), (224218, 53.1840627135528, 50, -6.13509209741747), (224220, 53.184131823245295, 56, -6.1360617262209995), (224221, 53.184073158394, 56, -6.13633361327852), (224223, 53.184148995201205, 56, -6.13658470423142), (224224, 53.1842300708963, 56, -6.136596152365251), (224225, 53.184309976807604, 56, -6.13653283344115), (224226, 53.184659121147, 56, -6.13644287565651), (224227, 53.1850193535962, 56, -6.13648710978937), (224228, 53.1861169865808, 40, -6.13712786437412), (224229, 53.1867237198104, 40, -6.13741581455297), (224230, 53.187796738385295, 38, -6.13820733143793), (224231, 53.18830396127629, 38, -6.1384547235791205), (224232, 53.189152281887, 38, -6.13867238052188), (224233, 53.18952102846271, 38, -6.13868633747312), (224234, 53.1899876467707, 24, -6.13863619270087), (224235, 53.19039966934171, 24, -6.13854351490708), (224236, 53.1909625228635, 24, -6.138324573216809), (224237, 53.191399154535, 24, -6.13808116342412), (224238, 53.19239442799561, 24, -6.13734957757914), (224239, 53.1940285601395, 26, -6.13551262678455), (224240, 53.194736848416994, 18, -6.13482332961087), (224241, 53.1951184066197, 18, -6.13450741655195), (224242, 53.1959271351957, 25, -6.13391849470229), (224243, 53.1966219022797, 25, -6.133514116771231), (224244, 53.1991328215074, 18, -6.13256675813695), (224245, 53.19983680011379, 18, -6.132176895174661), (224246, 53.2006010730334, 33, -6.131619734703809), (224247, 53.201505774869396, 27, -6.130846869195981), (224248, 53.2060701151152, 24, -6.12672575360783), (224249, 53.20707217603729, 21, -6.12585860479728), (224250, 53.2074364497822, 21, -6.12558818758997), (224251, 53.208086273555004, 21, -6.125185523617589), (224252, 53.2085410752683, 23, -6.1249560568273695), (224253, 53.2095870606697, 23, -6.12459595775143), (224254, 53.210438731751005, 19, -6.124453947672309), (224255, 53.21104078229939, 19, -6.12444262027582), (224256, 53.21203142774839, 19, -6.12456404848469), (224257, 53.212780963727, 22, -6.124785855023769), (224258, 53.2134234180043, 22, -6.12505726706587), (224259, 53.218585887937095, 28, -6.12811140730504), (224260, 53.21942759144589, 26, -6.1284790458211695), (224261, 53.220114243939896, 26, -6.12870369739048), (224262, 53.221286411367394, 28, -6.12893714202528), (224263, 53.225170062942, 29, -6.1289774982679495), (224264, 53.2261339908803, 29, -6.1291152061119405), (224265, 53.226640055573995, 39, -6.129287859792191), (224266, 53.227383184668795, 34, -6.129674861870071), (224267, 53.22890912595779, 34, -6.130686842249941), (224268, 53.2290204360178, 34, -6.13090668027754), (224269, 53.229539471516894, 42, -6.131333449816211), (224270, 53.2300242190893, 42, -6.131866579197919), (224271, 53.230517008175404, 42, -6.13233945163529), (224272, 53.231061109014206, 42, -6.13264532290603), (224273, 53.23142251324579, 39, -6.13276441246112), (224274, 53.2319895725453, 39, -6.13281463271981), (224275, 53.2323391794353, 39, -6.13275447559629), (224276, 53.2327058125395, 39, -6.13263365449963), (224277, 53.23328426709829, 39, -6.13226391968615), (224278, 53.2343828180548, 39, -6.131242321561941), (224279, 53.235156999984596, 39, -6.13074417384234), (224280, 53.2373587149141, 44, -6.129569514321481), (224281, 53.238162891431294, 43, -6.12926476280223), (224282, 53.2386734720249, 38, -6.12915259781044), (224283, 53.2394093149863, 38, -6.12907555181249), (224284, 53.2399664522256, 32, -6.12906623087899), (224285, 53.24044345398371, 32, -6.12910535487831), (224286, 53.241011453895, 37, -6.129215426826401), (224287, 53.2412473439151, 37, -6.12935497136902), (224288, 53.2412856233359, 37, -6.129503136283111), (224304, 53.2498373394291, 27, -6.1406546266871205), (224305, 53.2504409193546, 34, -6.1413178350149), (224306, 53.2512255433705, 35, -6.14206313678576), (224309, 53.2551139581444, 37, -6.14529693720727), (224312, 53.258662896694204, 38, -6.146357513069219), (224335, 53.2728239809529, 72, -6.17225493639745), (224345, 53.275533412769605, 85, -6.17956201373999), (224354, 53.2812986926029, 69, -6.19221464766743), (224355, 53.281593632641794, 69, -6.19269711180435), (224361, 53.2845719276464, 59, -6.194686190738669), (224362, 53.2848609580706, 59, -6.19477899475183), (224375, 53.293546293590495, 57, -6.20209354794375), (224377, 53.2947783757459, 54, -6.20333196980173), (224383, 53.298267783265494, 41, -6.204655805391309), (224387, 53.303190700132504, 26, -6.20806545825248), (224388, 53.3036131363855, 28, -6.2086629768141695), (224389, 53.3061209694746, 25, -6.21226445792627), (224407, 53.314807304419496, 17, -6.225754731165731), (224409, 53.3163165861883, 18, -6.22812366343467), (224410, 53.3166096022196, 18, -6.22848676471811), (224417, 53.320022140826396, 10, -6.23313385156789), (224418, 53.320333996056796, 9, -6.233556283219019), (224419, 53.3217293425103, 14, -6.23552518239717), (224504, 53.340163696668206, 18, -6.25566895918303), (224506, 53.3376978231155, 21, -6.25606994438939), (224536, 53.3262380727108, 15, -6.24260539273281), (224537, 53.3244037023225, 17, -6.240113681246919), (224556, 53.31511918517511, 17, -6.226177057778009), (224565, 53.3128229137479, 16, -6.22166473441926), (224576, 53.303554284787, 28, -6.208335328846821), (224577, 53.303113881738795, 26, -6.207738566823809), (224580, 53.298074408038396, 41, -6.2043488507678495), (224590, 53.29342318995279, 54, -6.2016786753638495), (224603, 53.2852635843756, 59, -6.19465702930348), (224607, 53.282956914898996, 69, -6.19368942762267), (224608, 53.2823763541135, 69, -6.193338974025989), (224615, 53.2803491543435, 77, -6.189465291010539), (224625, 53.273374413464005, 70, -6.1729811800315595), (224626, 53.273087229097904, 63, -6.17242363817375), (224639, 53.261346451374294, 38, -6.14841505467031), (224643, 53.258343156036, 38, -6.14602658564136), (224667, 53.241629116412795, 32, -6.12905363075988), (224668, 53.2415196833777, 32, -6.1289535200859495), (224669, 53.24139369623429, 32, -6.128944033178801), (224670, 53.241314266104794, 32, -6.129037399411191), (224671, 53.241062761964905, 32, -6.1290483714691995), (224672, 53.2403236282166, 32, -6.12891580139784), (224673, 53.239675727768095, 32, -6.12886915252695), (224674, 53.239315965892295, 38, -6.12885488228506), (224675, 53.238606834896004, 38, -6.12891578405122), (224676, 53.238239501128305, 38, -6.12899173825677), (224677, 53.2373722142541, 44, -6.12928426587786), (224678, 53.2338429401863, 39, -6.13120591678594), (224679, 53.232986741513606, 39, -6.13163270938553), (224680, 53.2326472911816, 39, -6.1317673365668), (224681, 53.232297684881495, 39, -6.13182750221603), (224682, 53.2319473744501, 39, -6.131842756898401), (224683, 53.2315961252168, 39, -6.131798131863099), (224684, 53.231081081807794, 42, -6.13162582113827), (224685, 53.2300829323283, 32, -6.1310251683522), (224686, 53.2295496883648, 32, -6.13083868607095), (224687, 53.227197664014504, 34, -6.12930848501967), (224688, 53.226699171546095, 29, -6.129045628667071), (224689, 53.2262472354531, 29, -6.1288855954989), (224690, 53.225769292455205, 29, -6.12878661187369), (224691, 53.225210978675, 29, -6.12872109087424), (224692, 53.221326622058, 28, -6.1286358591644206), (224693, 53.2208311841095, 26, -6.128567603824219), (224694, 53.21983866237429, 26, -6.12832633741051), (224695, 53.2193595430351, 26, -6.12815254530392), (224696, 53.2184086397421, 28, -6.127699824045401), (224697, 53.2140812461458, 22, -6.125163301947531), (224698, 53.21340121426329, 22, -6.1247887095931794), (224699, 53.212975748168205, 22, -6.12459766380504), (224700, 53.212469912109796, 19, -6.12444007972837), (224701, 53.2115409648894, 19, -6.12424109244436), (224702, 53.210848148969, 19, -6.124196497056411), (224703, 53.2097083375463, 23, -6.12430618398422), (224704, 53.20884082180739, 23, -6.1245836356329), (224705, 53.208207081006606, 25, -6.12486583843758), (224706, 53.2079127838445, 21, -6.12501343683047), (224707, 53.207352313021296, 21, -6.12538225765453), (224708, 53.206988039749696, 21, -6.12565267605011), (224709, 53.206092356572505, 24, -6.1264253597483895), (224710, 53.2007831323675, 27, -6.13119267400141), (224711, 53.20024130915171, 33, -6.13160544641299), (224712, 53.199583182713496, 18, -6.132053204061049), (224713, 53.1989678555834, 18, -6.13236436873955), (224714, 53.198432196404, 18, -6.132597218385191), (224715, 53.1970107980776, 16, -6.13309308286566), (224716, 53.196029768196794, 25, -6.13358474790404), (224717, 53.19528274658111, 18, -6.13409616043306), (224718, 53.1942274282382, 18, -6.1350100841192905), (224719, 53.192602286543, 24, -6.136846672991299), (224720, 53.1918133778981, 34, -6.13755436246393), (224721, 53.1912705951797, 24, -6.13790714282969), (224722, 53.1908961394156, 24, -6.13810296176884), (224723, 53.1903332863177, 24, -6.138321905992969), (224724, 53.1901181758492, 24, -6.13836115756132), (224726, 53.1897598141749, 24, -6.1384365461317), (224727, 53.1891665071674, 38, -6.138432320288169), (224728, 53.1883817643642, 38, -6.1382568082408095), (224729, 53.1879021896889, 38, -6.13805311438141), (224730, 53.187457375285994, 60, -6.13777309530436), (224731, 53.185018741702, 56, -6.135873620053519), (224732, 53.18437420252889, 56, -6.135467633850089), (224733, 53.1838402605186, 50, -6.13523642111457), (224734, 53.1834429273446, 50, -6.13511899193313), (224735, 53.1830373140791, 73, -6.13504681351372), (224736, 53.1824529891408, 73, -6.13504224310421), (224737, 53.181843589984, 73, -6.135158462302929), (224738, 53.1814294625108, 73, -6.13511658038538), (224739, 53.18135666667789, 73, -6.135059888782999), (224740, 53.1812819976074, 73, -6.13488357854905), (224741, 53.1812702051544, 73, -6.13470454016652), (224742, 53.1812862964631, 73, -6.134584141704821), (224743, 53.181546867843, 73, -6.13400425338702), (224744, 53.181817824758504, 73, -6.13351368312397), (224746, 53.18210362127561, 73, -6.13339653205319), (224747, 53.182173136915296, 65, -6.13324388468392), (224748, 53.1821523595695, 65, -6.13306523328434), (224749, 53.182051912391, 65, -6.1329648570149695), (224750, 53.1819798187844, 65, -6.132953026020029), (224752, 53.1816762038319, 65, -6.13193379181929), (224756, 53.1814911202307, 65, -6.12987699804477), (224757, 53.1815440753749, 65, -6.12981484342479), (224758, 53.1816121774712, 65, -6.129572477851701), (224759, 53.1815635080941, 65, -6.12933519388908), (224762, 53.1816534931646, 67, -6.12762553437487), (224766, 53.18286000086639, 65, -6.12375738551208), (224768, 53.183344421023506, 52, -6.12198553589828), (224770, 53.1836782387595, 52, -6.12035490346192), (224771, 53.18389076873589, 52, -6.119013860293419), (224777, 53.1844157239192, 49, -6.10902508956019), (224778, 53.18455559941629, 54, -6.1082108940996696), (224780, 53.1847221784709, 54, -6.10738055341633), (224781, 53.1853523311304, 56, -6.104614388657679), (224786, 53.186431126245395, 64, -6.098985089835759), (224843, 53.14903578496121, 31, -6.07753764151973), (224845, 53.1489533106314, 21, -6.07688346443147), (224847, 53.14899073906079, 21, -6.07641829768986), (224874, 53.1384731766293, 15, -6.063614688921911), (224875, 53.1382804292786, 15, -6.06392231390702), (224941, 53.1367573572517, 11, -6.06422996780905), (224957, 53.13256134274221, 29, -6.074865687681809), (224959, 53.1326522239779, 32, -6.07659533049265), (224989, 53.1230561911195, 44, -6.07294460541769), (224990, 53.122939181053496, 44, -6.07293489822593), (225007, 53.1127155865517, 47, -6.06551940913424), (225013, 53.1089112838255, 41, -6.06483875258688), (225024, 53.1025958486678, 20, -6.06561517054399), (225072, 53.0776097977532, 28, -6.06743722056824), (225073, 53.07668729431111, 18, -6.067642733104191), (225075, 53.0756271499361, 18, -6.067675288306139), (228597, 53.394664207470896, 68, -6.2896046174688305), (228598, 53.3944261920933, 68, -6.289929936649389), (228600, 53.392344313042706, 67, -6.292674798603), (228602, 53.391224113598795, 62, -6.294163065613709), (228604, 53.390924063940496, 62, -6.2945509552468595), (228605, 53.3903942531855, 62, -6.29395568570604), (228606, 53.3901664596205, 61, -6.29373926623715), (228607, 53.390030427728206, 61, -6.29365449576052), (228612, 53.3902595344859, 62, -6.2889392568799805), (228613, 53.3904065028936, 63, -6.28727946317141), (228614, 53.3901613787282, 63, -6.287108881098041), (228616, 53.3898330364775, 63, -6.286776255290941), (228617, 53.389731421346795, 63, -6.28658487879699), (228618, 53.38962829582871, 63, -6.28628831769571), (228619, 53.3892375532823, 62, -6.2847403718524095), (228620, 53.3891885361796, 62, -6.28445667748531), (228622, 53.3883894536277, 59, -6.2801437728073095), (228624, 53.388318778633696, 59, -6.27960537218092), (228625, 53.3903300609978, 63, -6.279464112394691), (228626, 53.390349975877704, 63, -6.27959862807107), (228627, 53.390423570881204, 63, -6.279715943530849), (228628, 53.3905495467243, 63, -6.27972589846673), (228629, 53.3906201097624, 63, -6.27963283948256), (228630, 53.3906538751503, 63, -6.27948112220078), (228631, 53.390587963042705, 63, -6.2792732834639695), (228632, 53.390551381964706, 63, -6.279229652619031), (228633, 53.390479302912794, 63, -6.279217524881751), (228634, 53.3904091539012, 60, -6.278092695146269), (228636, 53.390144823126704, 62, -6.274103955876419), (228638, 53.38981426485989, 58, -6.269275974134329), (228640, 53.38969387574579, 56, -6.267792370698791), (228641, 53.38960299821029, 56, -6.267104441718639), (228642, 53.3891362437339, 53, -6.26467269112041), (228643, 53.3883155108476, 53, -6.2650969817980195), (228858, 53.3129731651916, 46, -6.305449576892901), (228860, 53.3130723707718, 46, -6.30610600757043), (228861, 53.313768736053895, 49, -6.3095753973683895), (228862, 53.31397890335771, 50, -6.310452593595481), (228863, 53.314100994787104, 50, -6.31082298483716), (228865, 53.3150922581205, 48, -6.3135454748541), (228867, 53.3159239703615, 50, -6.31579407666359), (228868, 53.31624337145679, 52, -6.316772112637629), (228869, 53.3163286645218, 52, -6.3170839516308), (228870, 53.3164106867283, 52, -6.317801172721991), (228872, 53.3165561133745, 50, -6.32046712425092), (228873, 53.316733827486104, 46, -6.32287666650337), (228875, 53.3170416067781, 47, -6.326872146784821), (228878, 53.3171248383744, 47, -6.330246043555219), (228883, 53.3166098131352, 52, -6.3326226223030195), (228884, 53.31618110276939, 52, -6.33217404853891), (228886, 53.3147844347051, 53, -6.33063758028144), (228888, 53.31398966976629, 55, -6.329723063684441), (228889, 53.3137621987494, 55, -6.33016718889174), (228890, 53.3131875318394, 55, -6.33084998151341), (228891, 53.312968829784005, 55, -6.33127874205709), (228892, 53.3127779148669, 55, -6.331766446627769), (228893, 53.3126920691198, 55, -6.33205494649247), (228895, 53.3126371567018, 55, -6.33262739096509), (228896, 53.3126781215069, 55, -6.33298598619562), (228897, 53.3126167068077, 55, -6.333093435294749), (228898, 53.31265389727489, 55, -6.33318203403881), (228899, 53.3127169891004, 55, -6.33319458370301), (228900, 53.3128298175943, 57, -6.33355038058974), (228901, 53.31290608373, 57, -6.333862579132219), (228902, 53.312920304812096, 57, -6.334237227226451), (228903, 53.3127592590755, 57, -6.33493386735747), (228904, 53.3126126169323, 57, -6.3353748062907895), (228905, 53.3123514938388, 60, -6.33598528239119), (228906, 53.3116955357546, 60, -6.33728644742822), (228908, 53.3111527923994, 60, -6.338328048642759), (228909, 53.310888729095495, 60, -6.33872849658955), (228910, 53.3103232037014, 61, -6.3394257789258495), (228911, 53.310048691835696, 63, -6.3397215681961105), (228913, 53.309907048396994, 63, -6.339877135146531), (228914, 53.3096216734261, 63, -6.340038277836241), (228915, 53.3091284319786, 63, -6.34011744218271), (228916, 53.308849743762295, 63, -6.34011324779977), (228917, 53.308309081222, 63, -6.340014171949071), (228918, 53.308091396574, 63, -6.33987255401623), (228919, 53.308108110329705, 63, -6.33978186722569), (228922, 53.3078991998204, 63, -6.33962490431257), (228923, 53.307769885015205, 63, -6.33937481619178), (228924, 53.3072087393161, 64, -6.33716069154237), (228926, 53.3065994959599, 62, -6.33472340791967), (228927, 53.3066788786973, 62, -6.33461527713173), (228928, 53.3068940563232, 62, -6.33457688990404), (228929, 53.3069830504369, 62, -6.33451340193561), (228930, 53.3070081149392, 62, -6.334377372253869), (229116, 53.307208948425, 64, -6.33717568948439), (229121, 53.30835420602221, 63, -6.340027427634911), (229127, 53.31034096127421, 61, -6.33941008249978), (229131, 53.31210645110471, 60, -6.336460055583419), (229139, 53.31276064718271, 55, -6.33310283444111), (229140, 53.312732230179904, 55, -6.332998885640861), (229142, 53.3126469786336, 55, -6.332687040078059), (229144, 53.312643413683794, 55, -6.33243204326905), (229149, 53.3135856854905, 55, -6.33039920415213), (229150, 53.3138323838801, 55, -6.330044381830819), (229153, 53.3152956782411, 53, -6.3312029755350006), (229156, 53.316940126339, 49, -6.33310505877846), (229174, 53.31634874719979, 52, -6.3172332546503), (229175, 53.3162906154748, 52, -6.31693535572034), (229176, 53.316017825477196, 50, -6.31607555594575), (229178, 53.31426991189, 50, -6.31132660686451), (229181, 53.313787977717894, 49, -6.30966468759692), (229182, 53.3136526466809, 49, -6.308994657756809), (229191, 53.3122163955927, 46, -6.29964148081692), (229409, 53.389184433991005, 53, -6.26489625663589), (229410, 53.3895241545642, 53, -6.2666265190185895), (229412, 53.38995297721561, 59, -6.27140536148288), (229414, 53.3901459094431, 62, -6.27417908881953), (229416, 53.3904218214626, 60, -6.278347786730139), (229419, 53.3903901247434, 63, -6.27926622880222), (229420, 53.390337744204395, 63, -6.27937358988032), (229423, 53.388350707688105, 59, -6.27994988338077), (229424, 53.388457095924394, 59, -6.2804718106331805), (229426, 53.3890616071057, 62, -6.283755138324651), (229433, 53.3900522908175, 63, -6.2870230496926105), (229444, 53.3912769370747, 62, -6.29408577443704), (229446, 53.3923708317559, 67, -6.292643664856371), (229448, 53.3944614776106, 68, -6.28988341124861)]\n"
     ]
    }
   ],
   "source": [
    "conn = AzurePackage(\"AzureDBConn\", in_config.teamConnQuote)\n",
    "cursor = conn.cursor()\n",
    "a = cursor.execute(\"SELECT * FROM [dbo].[elevations]\")\n",
    "print(a.fetchall())\n",
    "conn.close()"
   ]
  },
  {
   "cell_type": "code",
   "execution_count": null,
   "metadata": {},
   "outputs": [],
   "source": []
  }
 ]
}