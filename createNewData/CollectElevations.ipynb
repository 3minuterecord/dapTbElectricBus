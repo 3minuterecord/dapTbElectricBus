{
 "metadata": {
  "language_info": {
   "codemirror_mode": {
    "name": "ipython",
    "version": 3
   },
   "file_extension": ".py",
   "mimetype": "text/x-python",
   "name": "python",
   "nbconvert_exporter": "python",
   "pygments_lexer": "ipython3",
   "version": "3.8.8"
  },
  "orig_nbformat": 2,
  "kernelspec": {
   "name": "python3",
   "display_name": "Python 3",
   "language": "python"
  }
 },
 "nbformat": 4,
 "nbformat_minor": 2,
 "cells": [
  {
   "cell_type": "code",
   "execution_count": null,
   "metadata": {},
   "outputs": [],
   "source": [
    "import sys\n",
    "import os\n",
    "import time\n",
    "import pymongo\n",
    "import urllib\n",
    "import pandas as pd\n",
    "start_time = time.time()\n",
    "sys.path.append(os.environ.get(\"PYTHONPATH\"))\n",
    "\n",
    "try:\n",
    "    import createNewData.data.config as in_config\n",
    "    from createNewData.pypackages.Azure import Azure\n",
    "    from createNewData.pypackages.urlHandler import UrlHandler\n",
    "    AzurePackage = Azure(in_config)\n",
    "    Url = UrlHandler(in_config)\n",
    "    \n",
    "    \n",
    "except ImportError as e:\n",
    "    print(\"Failed to import critical modules for this script.\")\n",
    "    print(\"Please confirm that files exist in the correct locations.\")\n",
    "    print(e)"
   ]
  },
  {
   "source": [
    "# Upload to SQL Database\n",
    "The below can upload an entire table from a txt or csv file to the Azure SQL Database.\n",
    "Required fields:\n",
    "* \"UploadToSQL\" is the class name for uploading tables to the database.\n",
    "* tablepath is the path the file is located in.\n",
    "* tablename is the name of the new table to be created."
   ],
   "cell_type": "markdown",
   "metadata": {}
  },
  {
   "cell_type": "code",
   "execution_count": null,
   "metadata": {},
   "outputs": [],
   "source": [
    "df = pd.read_csv(in_config.shapes)\n",
    "\n",
    "SqlDataCursor = AzurePackage(\"UploadToSQL\",\n",
    "                              df,\n",
    "                              \"shapes\")"
   ]
  },
  {
   "source": [
    "# Return All Unique Shape Id's From SQL Database\n",
    "The below collects all unique values in a specific column of a database.\n",
    "Required fields:\n",
    "* \"SelectDistinct\" is the class name for collecting the unique values.\n",
    "* shape_id is the column name.\n",
    "* [[dbo].[shapes]] is the name of the table to be queried."
   ],
   "cell_type": "markdown",
   "metadata": {}
  },
  {
   "cell_type": "code",
   "execution_count": 1,
   "metadata": {},
   "outputs": [],
   "source": [
    "shapeIds = AzurePackage(\"SelectDistinct\",\n",
    "                              \"shape_id\",\n",
    "                              \"[dbo].[shapes]\")"
   ]
  },
  {
   "source": [
    "# Collect Elevation Data and Upload to MongoDB\n",
    "The below collects the longtitude and lattitude for elevation data from the shapes table.\n",
    "It then generates and send the request to the open elevations URL.\n",
    "Finally it stores this data to the mongoDB database in Azure Cosmos."
   ],
   "cell_type": "markdown",
   "metadata": {}
  },
  {
   "cell_type": "code",
   "execution_count": 2,
   "metadata": {
    "tags": [
     "outputPrepend"
    ]
   },
   "outputs": [
    {
     "output_type": "stream",
     "name": "stdout",
     "text": [
      "sl=true&retrywrites=false&replicaSet=globaldb&maxIdleTimeMS=120000&appName=@jamescookland@\n",
      "1242.7248859405518 seconds\n",
      "mongodb://jamescookland:iRP78YZTLnrKTHSTKB4cXmHPA4Xf3RMeMLzXvZsNjimcgXNKEkysaUlpk3YjuBQxAIMZc7nRjtTvhCgW0fjxfw==@jamescookland.mongo.cosmos.azure.com:10255/?ssl=true&retrywrites=false&replicaSet=globaldb&maxIdleTimeMS=120000&appName=@jamescookland@\n",
      "1243.8572895526886 seconds\n",
      "mongodb://jamescookland:iRP78YZTLnrKTHSTKB4cXmHPA4Xf3RMeMLzXvZsNjimcgXNKEkysaUlpk3YjuBQxAIMZc7nRjtTvhCgW0fjxfw==@jamescookland.mongo.cosmos.azure.com:10255/?ssl=true&retrywrites=false&replicaSet=globaldb&maxIdleTimeMS=120000&appName=@jamescookland@\n",
      "1245.2728130817413 seconds\n",
      "mongodb://jamescookland:iRP78YZTLnrKTHSTKB4cXmHPA4Xf3RMeMLzXvZsNjimcgXNKEkysaUlpk3YjuBQxAIMZc7nRjtTvhCgW0fjxfw==@jamescookland.mongo.cosmos.azure.com:10255/?ssl=true&retrywrites=false&replicaSet=globaldb&maxIdleTimeMS=120000&appName=@jamescookland@\n",
      "1247.1386604309082 seconds\n",
      "mongodb://jamescookland:iRP78YZTLnrKTHSTKB4cXmHPA4Xf3RMeMLzXvZsNjimcgXNKEkysaUlpk3YjuBQxAIMZc7nRjtTvhCgW0fjxfw==@jamescookland.mongo.cosmos.azure.com:10255/?ssl=true&retrywrites=false&replicaSet=globaldb&maxIdleTimeMS=120000&appName=@jamescookland@\n",
      "1249.2494177818298 seconds\n",
      "mongodb://jamescookland:iRP78YZTLnrKTHSTKB4cXmHPA4Xf3RMeMLzXvZsNjimcgXNKEkysaUlpk3YjuBQxAIMZc7nRjtTvhCgW0fjxfw==@jamescookland.mongo.cosmos.azure.com:10255/?ssl=true&retrywrites=false&replicaSet=globaldb&maxIdleTimeMS=120000&appName=@jamescookland@\n",
      "1250.8558537960052 seconds\n",
      "mongodb://jamescookland:iRP78YZTLnrKTHSTKB4cXmHPA4Xf3RMeMLzXvZsNjimcgXNKEkysaUlpk3YjuBQxAIMZc7nRjtTvhCgW0fjxfw==@jamescookland.mongo.cosmos.azure.com:10255/?ssl=true&retrywrites=false&replicaSet=globaldb&maxIdleTimeMS=120000&appName=@jamescookland@\n",
      "1252.1318852901459 seconds\n",
      "mongodb://jamescookland:iRP78YZTLnrKTHSTKB4cXmHPA4Xf3RMeMLzXvZsNjimcgXNKEkysaUlpk3YjuBQxAIMZc7nRjtTvhCgW0fjxfw==@jamescookland.mongo.cosmos.azure.com:10255/?ssl=true&retrywrites=false&replicaSet=globaldb&maxIdleTimeMS=120000&appName=@jamescookland@\n",
      "1253.9619500637054 seconds\n",
      "mongodb://jamescookland:iRP78YZTLnrKTHSTKB4cXmHPA4Xf3RMeMLzXvZsNjimcgXNKEkysaUlpk3YjuBQxAIMZc7nRjtTvhCgW0fjxfw==@jamescookland.mongo.cosmos.azure.com:10255/?ssl=true&retrywrites=false&replicaSet=globaldb&maxIdleTimeMS=120000&appName=@jamescookland@\n",
      "1255.074845790863 seconds\n",
      "mongodb://jamescookland:iRP78YZTLnrKTHSTKB4cXmHPA4Xf3RMeMLzXvZsNjimcgXNKEkysaUlpk3YjuBQxAIMZc7nRjtTvhCgW0fjxfw==@jamescookland.mongo.cosmos.azure.com:10255/?ssl=true&retrywrites=false&replicaSet=globaldb&maxIdleTimeMS=120000&appName=@jamescookland@\n",
      "1257.5587706565857 seconds\n",
      "mongodb://jamescookland:iRP78YZTLnrKTHSTKB4cXmHPA4Xf3RMeMLzXvZsNjimcgXNKEkysaUlpk3YjuBQxAIMZc7nRjtTvhCgW0fjxfw==@jamescookland.mongo.cosmos.azure.com:10255/?ssl=true&retrywrites=false&replicaSet=globaldb&maxIdleTimeMS=120000&appName=@jamescookland@\n",
      "1259.311925649643 seconds\n",
      "mongodb://jamescookland:iRP78YZTLnrKTHSTKB4cXmHPA4Xf3RMeMLzXvZsNjimcgXNKEkysaUlpk3YjuBQxAIMZc7nRjtTvhCgW0fjxfw==@jamescookland.mongo.cosmos.azure.com:10255/?ssl=true&retrywrites=false&replicaSet=globaldb&maxIdleTimeMS=120000&appName=@jamescookland@\n",
      "1261.0653319358826 seconds\n",
      "mongodb://jamescookland:iRP78YZTLnrKTHSTKB4cXmHPA4Xf3RMeMLzXvZsNjimcgXNKEkysaUlpk3YjuBQxAIMZc7nRjtTvhCgW0fjxfw==@jamescookland.mongo.cosmos.azure.com:10255/?ssl=true&retrywrites=false&replicaSet=globaldb&maxIdleTimeMS=120000&appName=@jamescookland@\n",
      "1262.188003063202 seconds\n",
      "mongodb://jamescookland:iRP78YZTLnrKTHSTKB4cXmHPA4Xf3RMeMLzXvZsNjimcgXNKEkysaUlpk3YjuBQxAIMZc7nRjtTvhCgW0fjxfw==@jamescookland.mongo.cosmos.azure.com:10255/?ssl=true&retrywrites=false&replicaSet=globaldb&maxIdleTimeMS=120000&appName=@jamescookland@\n",
      "1264.5311110019684 seconds\n",
      "mongodb://jamescookland:iRP78YZTLnrKTHSTKB4cXmHPA4Xf3RMeMLzXvZsNjimcgXNKEkysaUlpk3YjuBQxAIMZc7nRjtTvhCgW0fjxfw==@jamescookland.mongo.cosmos.azure.com:10255/?ssl=true&retrywrites=false&replicaSet=globaldb&maxIdleTimeMS=120000&appName=@jamescookland@\n",
      "1266.3878679275513 seconds\n",
      "mongodb://jamescookland:iRP78YZTLnrKTHSTKB4cXmHPA4Xf3RMeMLzXvZsNjimcgXNKEkysaUlpk3YjuBQxAIMZc7nRjtTvhCgW0fjxfw==@jamescookland.mongo.cosmos.azure.com:10255/?ssl=true&retrywrites=false&replicaSet=globaldb&maxIdleTimeMS=120000&appName=@jamescookland@\n",
      "1268.1731750965118 seconds\n",
      "mongodb://jamescookland:iRP78YZTLnrKTHSTKB4cXmHPA4Xf3RMeMLzXvZsNjimcgXNKEkysaUlpk3YjuBQxAIMZc7nRjtTvhCgW0fjxfw==@jamescookland.mongo.cosmos.azure.com:10255/?ssl=true&retrywrites=false&replicaSet=globaldb&maxIdleTimeMS=120000&appName=@jamescookland@\n",
      "1269.548511505127 seconds\n",
      "mongodb://jamescookland:iRP78YZTLnrKTHSTKB4cXmHPA4Xf3RMeMLzXvZsNjimcgXNKEkysaUlpk3YjuBQxAIMZc7nRjtTvhCgW0fjxfw==@jamescookland.mongo.cosmos.azure.com:10255/?ssl=true&retrywrites=false&replicaSet=globaldb&maxIdleTimeMS=120000&appName=@jamescookland@\n",
      "1271.209706068039 seconds\n",
      "mongodb://jamescookland:iRP78YZTLnrKTHSTKB4cXmHPA4Xf3RMeMLzXvZsNjimcgXNKEkysaUlpk3YjuBQxAIMZc7nRjtTvhCgW0fjxfw==@jamescookland.mongo.cosmos.azure.com:10255/?ssl=true&retrywrites=false&replicaSet=globaldb&maxIdleTimeMS=120000&appName=@jamescookland@\n",
      "1272.5545389652252 seconds\n",
      "mongodb://jamescookland:iRP78YZTLnrKTHSTKB4cXmHPA4Xf3RMeMLzXvZsNjimcgXNKEkysaUlpk3YjuBQxAIMZc7nRjtTvhCgW0fjxfw==@jamescookland.mongo.cosmos.azure.com:10255/?ssl=true&retrywrites=false&replicaSet=globaldb&maxIdleTimeMS=120000&appName=@jamescookland@\n",
      "1274.9553577899933 seconds\n",
      "mongodb://jamescookland:iRP78YZTLnrKTHSTKB4cXmHPA4Xf3RMeMLzXvZsNjimcgXNKEkysaUlpk3YjuBQxAIMZc7nRjtTvhCgW0fjxfw==@jamescookland.mongo.cosmos.azure.com:10255/?ssl=true&retrywrites=false&replicaSet=globaldb&maxIdleTimeMS=120000&appName=@jamescookland@\n",
      "1276.382239818573 seconds\n",
      "mongodb://jamescookland:iRP78YZTLnrKTHSTKB4cXmHPA4Xf3RMeMLzXvZsNjimcgXNKEkysaUlpk3YjuBQxAIMZc7nRjtTvhCgW0fjxfw==@jamescookland.mongo.cosmos.azure.com:10255/?ssl=true&retrywrites=false&replicaSet=globaldb&maxIdleTimeMS=120000&appName=@jamescookland@\n",
      "1278.6765241622925 seconds\n",
      "mongodb://jamescookland:iRP78YZTLnrKTHSTKB4cXmHPA4Xf3RMeMLzXvZsNjimcgXNKEkysaUlpk3YjuBQxAIMZc7nRjtTvhCgW0fjxfw==@jamescookland.mongo.cosmos.azure.com:10255/?ssl=true&retrywrites=false&replicaSet=globaldb&maxIdleTimeMS=120000&appName=@jamescookland@\n",
      "1280.3796825408936 seconds\n",
      "mongodb://jamescookland:iRP78YZTLnrKTHSTKB4cXmHPA4Xf3RMeMLzXvZsNjimcgXNKEkysaUlpk3YjuBQxAIMZc7nRjtTvhCgW0fjxfw==@jamescookland.mongo.cosmos.azure.com:10255/?ssl=true&retrywrites=false&replicaSet=globaldb&maxIdleTimeMS=120000&appName=@jamescookland@\n",
      "1282.170459985733 seconds\n",
      "mongodb://jamescookland:iRP78YZTLnrKTHSTKB4cXmHPA4Xf3RMeMLzXvZsNjimcgXNKEkysaUlpk3YjuBQxAIMZc7nRjtTvhCgW0fjxfw==@jamescookland.mongo.cosmos.azure.com:10255/?ssl=true&retrywrites=false&replicaSet=globaldb&maxIdleTimeMS=120000&appName=@jamescookland@\n",
      "1283.3587956428528 seconds\n",
      "mongodb://jamescookland:iRP78YZTLnrKTHSTKB4cXmHPA4Xf3RMeMLzXvZsNjimcgXNKEkysaUlpk3YjuBQxAIMZc7nRjtTvhCgW0fjxfw==@jamescookland.mongo.cosmos.azure.com:10255/?ssl=true&retrywrites=false&replicaSet=globaldb&maxIdleTimeMS=120000&appName=@jamescookland@\n",
      "1284.5173184871674 seconds\n",
      "mongodb://jamescookland:iRP78YZTLnrKTHSTKB4cXmHPA4Xf3RMeMLzXvZsNjimcgXNKEkysaUlpk3YjuBQxAIMZc7nRjtTvhCgW0fjxfw==@jamescookland.mongo.cosmos.azure.com:10255/?ssl=true&retrywrites=false&replicaSet=globaldb&maxIdleTimeMS=120000&appName=@jamescookland@\n",
      "1286.3610310554504 seconds\n",
      "mongodb://jamescookland:iRP78YZTLnrKTHSTKB4cXmHPA4Xf3RMeMLzXvZsNjimcgXNKEkysaUlpk3YjuBQxAIMZc7nRjtTvhCgW0fjxfw==@jamescookland.mongo.cosmos.azure.com:10255/?ssl=true&retrywrites=false&replicaSet=globaldb&maxIdleTimeMS=120000&appName=@jamescookland@\n",
      "1287.437982082367 seconds\n",
      "mongodb://jamescookland:iRP78YZTLnrKTHSTKB4cXmHPA4Xf3RMeMLzXvZsNjimcgXNKEkysaUlpk3YjuBQxAIMZc7nRjtTvhCgW0fjxfw==@jamescookland.mongo.cosmos.azure.com:10255/?ssl=true&retrywrites=false&replicaSet=globaldb&maxIdleTimeMS=120000&appName=@jamescookland@\n",
      "1289.1275522708893 seconds\n",
      "mongodb://jamescookland:iRP78YZTLnrKTHSTKB4cXmHPA4Xf3RMeMLzXvZsNjimcgXNKEkysaUlpk3YjuBQxAIMZc7nRjtTvhCgW0fjxfw==@jamescookland.mongo.cosmos.azure.com:10255/?ssl=true&retrywrites=false&replicaSet=globaldb&maxIdleTimeMS=120000&appName=@jamescookland@\n",
      "1290.4552998542786 seconds\n",
      "mongodb://jamescookland:iRP78YZTLnrKTHSTKB4cXmHPA4Xf3RMeMLzXvZsNjimcgXNKEkysaUlpk3YjuBQxAIMZc7nRjtTvhCgW0fjxfw==@jamescookland.mongo.cosmos.azure.com:10255/?ssl=true&retrywrites=false&replicaSet=globaldb&maxIdleTimeMS=120000&appName=@jamescookland@\n",
      "1291.8046207427979 seconds\n",
      "mongodb://jamescookland:iRP78YZTLnrKTHSTKB4cXmHPA4Xf3RMeMLzXvZsNjimcgXNKEkysaUlpk3YjuBQxAIMZc7nRjtTvhCgW0fjxfw==@jamescookland.mongo.cosmos.azure.com:10255/?ssl=true&retrywrites=false&replicaSet=globaldb&maxIdleTimeMS=120000&appName=@jamescookland@\n",
      "1293.524479150772 seconds\n",
      "mongodb://jamescookland:iRP78YZTLnrKTHSTKB4cXmHPA4Xf3RMeMLzXvZsNjimcgXNKEkysaUlpk3YjuBQxAIMZc7nRjtTvhCgW0fjxfw==@jamescookland.mongo.cosmos.azure.com:10255/?ssl=true&retrywrites=false&replicaSet=globaldb&maxIdleTimeMS=120000&appName=@jamescookland@\n",
      "1295.437172651291 seconds\n",
      "mongodb://jamescookland:iRP78YZTLnrKTHSTKB4cXmHPA4Xf3RMeMLzXvZsNjimcgXNKEkysaUlpk3YjuBQxAIMZc7nRjtTvhCgW0fjxfw==@jamescookland.mongo.cosmos.azure.com:10255/?ssl=true&retrywrites=false&replicaSet=globaldb&maxIdleTimeMS=120000&appName=@jamescookland@\n",
      "1296.3321373462677 seconds\n",
      "mongodb://jamescookland:iRP78YZTLnrKTHSTKB4cXmHPA4Xf3RMeMLzXvZsNjimcgXNKEkysaUlpk3YjuBQxAIMZc7nRjtTvhCgW0fjxfw==@jamescookland.mongo.cosmos.azure.com:10255/?ssl=true&retrywrites=false&replicaSet=globaldb&maxIdleTimeMS=120000&appName=@jamescookland@\n",
      "1297.2593441009521 seconds\n",
      "mongodb://jamescookland:iRP78YZTLnrKTHSTKB4cXmHPA4Xf3RMeMLzXvZsNjimcgXNKEkysaUlpk3YjuBQxAIMZc7nRjtTvhCgW0fjxfw==@jamescookland.mongo.cosmos.azure.com:10255/?ssl=true&retrywrites=false&replicaSet=globaldb&maxIdleTimeMS=120000&appName=@jamescookland@\n",
      "1298.5628409385681 seconds\n",
      "mongodb://jamescookland:iRP78YZTLnrKTHSTKB4cXmHPA4Xf3RMeMLzXvZsNjimcgXNKEkysaUlpk3YjuBQxAIMZc7nRjtTvhCgW0fjxfw==@jamescookland.mongo.cosmos.azure.com:10255/?ssl=true&retrywrites=false&replicaSet=globaldb&maxIdleTimeMS=120000&appName=@jamescookland@\n",
      "1300.7666368484497 seconds\n",
      "mongodb://jamescookland:iRP78YZTLnrKTHSTKB4cXmHPA4Xf3RMeMLzXvZsNjimcgXNKEkysaUlpk3YjuBQxAIMZc7nRjtTvhCgW0fjxfw==@jamescookland.mongo.cosmos.azure.com:10255/?ssl=true&retrywrites=false&replicaSet=globaldb&maxIdleTimeMS=120000&appName=@jamescookland@\n",
      "1303.1209783554077 seconds\n",
      "mongodb://jamescookland:iRP78YZTLnrKTHSTKB4cXmHPA4Xf3RMeMLzXvZsNjimcgXNKEkysaUlpk3YjuBQxAIMZc7nRjtTvhCgW0fjxfw==@jamescookland.mongo.cosmos.azure.com:10255/?ssl=true&retrywrites=false&replicaSet=globaldb&maxIdleTimeMS=120000&appName=@jamescookland@\n",
      "1304.7745468616486 seconds\n",
      "mongodb://jamescookland:iRP78YZTLnrKTHSTKB4cXmHPA4Xf3RMeMLzXvZsNjimcgXNKEkysaUlpk3YjuBQxAIMZc7nRjtTvhCgW0fjxfw==@jamescookland.mongo.cosmos.azure.com:10255/?ssl=true&retrywrites=false&replicaSet=globaldb&maxIdleTimeMS=120000&appName=@jamescookland@\n",
      "1306.7150588035583 seconds\n",
      "mongodb://jamescookland:iRP78YZTLnrKTHSTKB4cXmHPA4Xf3RMeMLzXvZsNjimcgXNKEkysaUlpk3YjuBQxAIMZc7nRjtTvhCgW0fjxfw==@jamescookland.mongo.cosmos.azure.com:10255/?ssl=true&retrywrites=false&replicaSet=globaldb&maxIdleTimeMS=120000&appName=@jamescookland@\n",
      "1309.013828754425 seconds\n",
      "mongodb://jamescookland:iRP78YZTLnrKTHSTKB4cXmHPA4Xf3RMeMLzXvZsNjimcgXNKEkysaUlpk3YjuBQxAIMZc7nRjtTvhCgW0fjxfw==@jamescookland.mongo.cosmos.azure.com:10255/?ssl=true&retrywrites=false&replicaSet=globaldb&maxIdleTimeMS=120000&appName=@jamescookland@\n",
      "1310.7777886390686 seconds\n",
      "mongodb://jamescookland:iRP78YZTLnrKTHSTKB4cXmHPA4Xf3RMeMLzXvZsNjimcgXNKEkysaUlpk3YjuBQxAIMZc7nRjtTvhCgW0fjxfw==@jamescookland.mongo.cosmos.azure.com:10255/?ssl=true&retrywrites=false&replicaSet=globaldb&maxIdleTimeMS=120000&appName=@jamescookland@\n",
      "1313.6937520503998 seconds\n",
      "mongodb://jamescookland:iRP78YZTLnrKTHSTKB4cXmHPA4Xf3RMeMLzXvZsNjimcgXNKEkysaUlpk3YjuBQxAIMZc7nRjtTvhCgW0fjxfw==@jamescookland.mongo.cosmos.azure.com:10255/?ssl=true&retrywrites=false&replicaSet=globaldb&maxIdleTimeMS=120000&appName=@jamescookland@\n",
      "1315.1635901927948 seconds\n",
      "mongodb://jamescookland:iRP78YZTLnrKTHSTKB4cXmHPA4Xf3RMeMLzXvZsNjimcgXNKEkysaUlpk3YjuBQxAIMZc7nRjtTvhCgW0fjxfw==@jamescookland.mongo.cosmos.azure.com:10255/?ssl=true&retrywrites=false&replicaSet=globaldb&maxIdleTimeMS=120000&appName=@jamescookland@\n",
      "1316.7801966667175 seconds\n",
      "mongodb://jamescookland:iRP78YZTLnrKTHSTKB4cXmHPA4Xf3RMeMLzXvZsNjimcgXNKEkysaUlpk3YjuBQxAIMZc7nRjtTvhCgW0fjxfw==@jamescookland.mongo.cosmos.azure.com:10255/?ssl=true&retrywrites=false&replicaSet=globaldb&maxIdleTimeMS=120000&appName=@jamescookland@\n",
      "1318.8244438171387 seconds\n",
      "mongodb://jamescookland:iRP78YZTLnrKTHSTKB4cXmHPA4Xf3RMeMLzXvZsNjimcgXNKEkysaUlpk3YjuBQxAIMZc7nRjtTvhCgW0fjxfw==@jamescookland.mongo.cosmos.azure.com:10255/?ssl=true&retrywrites=false&replicaSet=globaldb&maxIdleTimeMS=120000&appName=@jamescookland@\n",
      "1320.8379323482513 seconds\n",
      "mongodb://jamescookland:iRP78YZTLnrKTHSTKB4cXmHPA4Xf3RMeMLzXvZsNjimcgXNKEkysaUlpk3YjuBQxAIMZc7nRjtTvhCgW0fjxfw==@jamescookland.mongo.cosmos.azure.com:10255/?ssl=true&retrywrites=false&replicaSet=globaldb&maxIdleTimeMS=120000&appName=@jamescookland@\n",
      "1323.845757484436 seconds\n",
      "mongodb://jamescookland:iRP78YZTLnrKTHSTKB4cXmHPA4Xf3RMeMLzXvZsNjimcgXNKEkysaUlpk3YjuBQxAIMZc7nRjtTvhCgW0fjxfw==@jamescookland.mongo.cosmos.azure.com:10255/?ssl=true&retrywrites=false&replicaSet=globaldb&maxIdleTimeMS=120000&appName=@jamescookland@\n",
      "1325.6690347194672 seconds\n",
      "mongodb://jamescookland:iRP78YZTLnrKTHSTKB4cXmHPA4Xf3RMeMLzXvZsNjimcgXNKEkysaUlpk3YjuBQxAIMZc7nRjtTvhCgW0fjxfw==@jamescookland.mongo.cosmos.azure.com:10255/?ssl=true&retrywrites=false&replicaSet=globaldb&maxIdleTimeMS=120000&appName=@jamescookland@\n",
      "1327.4358432292938 seconds\n",
      "mongodb://jamescookland:iRP78YZTLnrKTHSTKB4cXmHPA4Xf3RMeMLzXvZsNjimcgXNKEkysaUlpk3YjuBQxAIMZc7nRjtTvhCgW0fjxfw==@jamescookland.mongo.cosmos.azure.com:10255/?ssl=true&retrywrites=false&replicaSet=globaldb&maxIdleTimeMS=120000&appName=@jamescookland@\n",
      "1328.7778985500336 seconds\n",
      "mongodb://jamescookland:iRP78YZTLnrKTHSTKB4cXmHPA4Xf3RMeMLzXvZsNjimcgXNKEkysaUlpk3YjuBQxAIMZc7nRjtTvhCgW0fjxfw==@jamescookland.mongo.cosmos.azure.com:10255/?ssl=true&retrywrites=false&replicaSet=globaldb&maxIdleTimeMS=120000&appName=@jamescookland@\n",
      "1330.7906465530396 seconds\n",
      "mongodb://jamescookland:iRP78YZTLnrKTHSTKB4cXmHPA4Xf3RMeMLzXvZsNjimcgXNKEkysaUlpk3YjuBQxAIMZc7nRjtTvhCgW0fjxfw==@jamescookland.mongo.cosmos.azure.com:10255/?ssl=true&retrywrites=false&replicaSet=globaldb&maxIdleTimeMS=120000&appName=@jamescookland@\n",
      "1332.2613270282745 seconds\n",
      "mongodb://jamescookland:iRP78YZTLnrKTHSTKB4cXmHPA4Xf3RMeMLzXvZsNjimcgXNKEkysaUlpk3YjuBQxAIMZc7nRjtTvhCgW0fjxfw==@jamescookland.mongo.cosmos.azure.com:10255/?ssl=true&retrywrites=false&replicaSet=globaldb&maxIdleTimeMS=120000&appName=@jamescookland@\n",
      "1333.854402065277 seconds\n",
      "mongodb://jamescookland:iRP78YZTLnrKTHSTKB4cXmHPA4Xf3RMeMLzXvZsNjimcgXNKEkysaUlpk3YjuBQxAIMZc7nRjtTvhCgW0fjxfw==@jamescookland.mongo.cosmos.azure.com:10255/?ssl=true&retrywrites=false&replicaSet=globaldb&maxIdleTimeMS=120000&appName=@jamescookland@\n",
      "1334.8215267658234 seconds\n",
      "mongodb://jamescookland:iRP78YZTLnrKTHSTKB4cXmHPA4Xf3RMeMLzXvZsNjimcgXNKEkysaUlpk3YjuBQxAIMZc7nRjtTvhCgW0fjxfw==@jamescookland.mongo.cosmos.azure.com:10255/?ssl=true&retrywrites=false&replicaSet=globaldb&maxIdleTimeMS=120000&appName=@jamescookland@\n",
      "1335.9188766479492 seconds\n",
      "mongodb://jamescookland:iRP78YZTLnrKTHSTKB4cXmHPA4Xf3RMeMLzXvZsNjimcgXNKEkysaUlpk3YjuBQxAIMZc7nRjtTvhCgW0fjxfw==@jamescookland.mongo.cosmos.azure.com:10255/?ssl=true&retrywrites=false&replicaSet=globaldb&maxIdleTimeMS=120000&appName=@jamescookland@\n",
      "1337.0190472602844 seconds\n",
      "mongodb://jamescookland:iRP78YZTLnrKTHSTKB4cXmHPA4Xf3RMeMLzXvZsNjimcgXNKEkysaUlpk3YjuBQxAIMZc7nRjtTvhCgW0fjxfw==@jamescookland.mongo.cosmos.azure.com:10255/?ssl=true&retrywrites=false&replicaSet=globaldb&maxIdleTimeMS=120000&appName=@jamescookland@\n",
      "1339.5354280471802 seconds\n",
      "mongodb://jamescookland:iRP78YZTLnrKTHSTKB4cXmHPA4Xf3RMeMLzXvZsNjimcgXNKEkysaUlpk3YjuBQxAIMZc7nRjtTvhCgW0fjxfw==@jamescookland.mongo.cosmos.azure.com:10255/?ssl=true&retrywrites=false&replicaSet=globaldb&maxIdleTimeMS=120000&appName=@jamescookland@\n",
      "1341.3324692249298 seconds\n",
      "mongodb://jamescookland:iRP78YZTLnrKTHSTKB4cXmHPA4Xf3RMeMLzXvZsNjimcgXNKEkysaUlpk3YjuBQxAIMZc7nRjtTvhCgW0fjxfw==@jamescookland.mongo.cosmos.azure.com:10255/?ssl=true&retrywrites=false&replicaSet=globaldb&maxIdleTimeMS=120000&appName=@jamescookland@\n",
      "1343.2531509399414 seconds\n",
      "mongodb://jamescookland:iRP78YZTLnrKTHSTKB4cXmHPA4Xf3RMeMLzXvZsNjimcgXNKEkysaUlpk3YjuBQxAIMZc7nRjtTvhCgW0fjxfw==@jamescookland.mongo.cosmos.azure.com:10255/?ssl=true&retrywrites=false&replicaSet=globaldb&maxIdleTimeMS=120000&appName=@jamescookland@\n",
      "1345.2051174640656 seconds\n",
      "mongodb://jamescookland:iRP78YZTLnrKTHSTKB4cXmHPA4Xf3RMeMLzXvZsNjimcgXNKEkysaUlpk3YjuBQxAIMZc7nRjtTvhCgW0fjxfw==@jamescookland.mongo.cosmos.azure.com:10255/?ssl=true&retrywrites=false&replicaSet=globaldb&maxIdleTimeMS=120000&appName=@jamescookland@\n",
      "1347.3751294612885 seconds\n",
      "mongodb://jamescookland:iRP78YZTLnrKTHSTKB4cXmHPA4Xf3RMeMLzXvZsNjimcgXNKEkysaUlpk3YjuBQxAIMZc7nRjtTvhCgW0fjxfw==@jamescookland.mongo.cosmos.azure.com:10255/?ssl=true&retrywrites=false&replicaSet=globaldb&maxIdleTimeMS=120000&appName=@jamescookland@\n",
      "1349.3046696186066 seconds\n",
      "mongodb://jamescookland:iRP78YZTLnrKTHSTKB4cXmHPA4Xf3RMeMLzXvZsNjimcgXNKEkysaUlpk3YjuBQxAIMZc7nRjtTvhCgW0fjxfw==@jamescookland.mongo.cosmos.azure.com:10255/?ssl=true&retrywrites=false&replicaSet=globaldb&maxIdleTimeMS=120000&appName=@jamescookland@\n",
      "1351.3353967666626 seconds\n",
      "mongodb://jamescookland:iRP78YZTLnrKTHSTKB4cXmHPA4Xf3RMeMLzXvZsNjimcgXNKEkysaUlpk3YjuBQxAIMZc7nRjtTvhCgW0fjxfw==@jamescookland.mongo.cosmos.azure.com:10255/?ssl=true&retrywrites=false&replicaSet=globaldb&maxIdleTimeMS=120000&appName=@jamescookland@\n",
      "1353.2851269245148 seconds\n",
      "mongodb://jamescookland:iRP78YZTLnrKTHSTKB4cXmHPA4Xf3RMeMLzXvZsNjimcgXNKEkysaUlpk3YjuBQxAIMZc7nRjtTvhCgW0fjxfw==@jamescookland.mongo.cosmos.azure.com:10255/?ssl=true&retrywrites=false&replicaSet=globaldb&maxIdleTimeMS=120000&appName=@jamescookland@\n",
      "1355.234911441803 seconds\n",
      "mongodb://jamescookland:iRP78YZTLnrKTHSTKB4cXmHPA4Xf3RMeMLzXvZsNjimcgXNKEkysaUlpk3YjuBQxAIMZc7nRjtTvhCgW0fjxfw==@jamescookland.mongo.cosmos.azure.com:10255/?ssl=true&retrywrites=false&replicaSet=globaldb&maxIdleTimeMS=120000&appName=@jamescookland@\n",
      "1356.9350945949554 seconds\n",
      "mongodb://jamescookland:iRP78YZTLnrKTHSTKB4cXmHPA4Xf3RMeMLzXvZsNjimcgXNKEkysaUlpk3YjuBQxAIMZc7nRjtTvhCgW0fjxfw==@jamescookland.mongo.cosmos.azure.com:10255/?ssl=true&retrywrites=false&replicaSet=globaldb&maxIdleTimeMS=120000&appName=@jamescookland@\n",
      "1358.5745820999146 seconds\n",
      "mongodb://jamescookland:iRP78YZTLnrKTHSTKB4cXmHPA4Xf3RMeMLzXvZsNjimcgXNKEkysaUlpk3YjuBQxAIMZc7nRjtTvhCgW0fjxfw==@jamescookland.mongo.cosmos.azure.com:10255/?ssl=true&retrywrites=false&replicaSet=globaldb&maxIdleTimeMS=120000&appName=@jamescookland@\n",
      "1360.334923028946 seconds\n",
      "mongodb://jamescookland:iRP78YZTLnrKTHSTKB4cXmHPA4Xf3RMeMLzXvZsNjimcgXNKEkysaUlpk3YjuBQxAIMZc7nRjtTvhCgW0fjxfw==@jamescookland.mongo.cosmos.azure.com:10255/?ssl=true&retrywrites=false&replicaSet=globaldb&maxIdleTimeMS=120000&appName=@jamescookland@\n",
      "1362.715662240982 seconds\n",
      "mongodb://jamescookland:iRP78YZTLnrKTHSTKB4cXmHPA4Xf3RMeMLzXvZsNjimcgXNKEkysaUlpk3YjuBQxAIMZc7nRjtTvhCgW0fjxfw==@jamescookland.mongo.cosmos.azure.com:10255/?ssl=true&retrywrites=false&replicaSet=globaldb&maxIdleTimeMS=120000&appName=@jamescookland@\n",
      "1364.260814666748 seconds\n",
      "mongodb://jamescookland:iRP78YZTLnrKTHSTKB4cXmHPA4Xf3RMeMLzXvZsNjimcgXNKEkysaUlpk3YjuBQxAIMZc7nRjtTvhCgW0fjxfw==@jamescookland.mongo.cosmos.azure.com:10255/?ssl=true&retrywrites=false&replicaSet=globaldb&maxIdleTimeMS=120000&appName=@jamescookland@\n",
      "1365.6298625469208 seconds\n",
      "mongodb://jamescookland:iRP78YZTLnrKTHSTKB4cXmHPA4Xf3RMeMLzXvZsNjimcgXNKEkysaUlpk3YjuBQxAIMZc7nRjtTvhCgW0fjxfw==@jamescookland.mongo.cosmos.azure.com:10255/?ssl=true&retrywrites=false&replicaSet=globaldb&maxIdleTimeMS=120000&appName=@jamescookland@\n",
      "1367.5868167877197 seconds\n",
      "1367.5878162384033 seconds\n"
     ]
    }
   ],
   "source": [
    "for each in shapeIds.iterrows():\n",
    "    shapeData = {}\n",
    "    try:\n",
    "        # Generate the Pandas table of all the Longtitudes and Latitudes\n",
    "        # for each shape\n",
    "        elevations = AzurePackage(\"SelectLongLat\",\n",
    "                                \"[shape_id],[shape_pt_lat],[shape_pt_lon]\",\n",
    "                                \"[dbo].[shapes]\",\n",
    "                                \"[shape_id]\",\n",
    "                                each[1][0])\n",
    "\n",
    "        # Generate the Json document for upload to MongoDB\n",
    "        shapeData[each[1][0].replace(\".\",\"_\")] = Url(\"mineElevationData\",elevations)\n",
    "    except urllib.error.HTTPError as e:\n",
    "        print(in_config.URLOOD)\n",
    "        print(e)\n",
    "\n",
    "    try:\n",
    "        # Upload the Json document to MongoDB\n",
    "        if not len(shapeData) == 0:\n",
    "            AzurePackage(\"UploadToMongo\",\"shapes\",shapeData)\n",
    "        else:\n",
    "            raise Exception(in_config.NDIDF)\n",
    "    except TypeError as e:\n",
    "        print(in_config.TEC)\n",
    "    except pymongo.errors.DuplicateKeyError as e:\n",
    "        print(in_config.FIDB)\n",
    "    except Exception as e:\n",
    "        print(in_config.UNKMGO)\n",
    "        print(e)\n",
    "\n",
    "    print(\"%s seconds\" % (time.time() - start_time))\n",
    "print(\"%s seconds\" % (time.time() - start_time))\n",
    "\n"
   ]
  },
  {
   "source": [
    "# Read Data From MongoDB and write to SQL Database"
   ],
   "cell_type": "markdown",
   "metadata": {}
  },
  {
   "cell_type": "code",
   "execution_count": 1,
   "metadata": {
    "tags": []
   },
   "outputs": [
    {
     "output_type": "stream",
     "name": "stdout",
     "text": [
      "mongodb://jamescookland:iRP78YZTLnrKTHSTKB4cXmHPA4Xf3RMeMLzXvZsNjimcgXNKEkysaUlpk3YjuBQxAIMZc7nRjtTvhCgW0fjxfw==@jamescookland.mongo.cosmos.azure.com:10255/?ssl=true&retrywrites=false&replicaSet=globaldb&maxIdleTimeMS=120000&appName=@jamescookland@\n"
     ]
    }
   ],
   "source": [
    "listOfObjects = []\n",
    "listOfElevations = []\n",
    "\n",
    "dbcollections = AzurePackage(\"SelectFromMongo\")\n",
    "for collection in dbcollections.find():\n",
    "    for each in collection:\n",
    "        if type(collection[each]) is dict:\n",
    "            listOfObjects.append(collection[each])\n",
    "\n",
    "for each in listOfObjects:\n",
    "    for key, value in each.items():\n",
    "        for elevation in value:\n",
    "            listOfElevations.append(elevation)\n",
    "\n",
    "df = pd.DataFrame(listOfElevations)\n",
    "dfTrimmed = df.drop_duplicates()\n"
   ]
  },
  {
   "cell_type": "code",
   "execution_count": 3,
   "metadata": {},
   "outputs": [
    {
     "output_type": "error",
     "ename": "AttributeError",
     "evalue": "'str' object has no attribute 'close'",
     "traceback": [
      "\u001b[1;31m---------------------------------------------------------------------------\u001b[0m",
      "\u001b[1;31mAttributeError\u001b[0m                            Traceback (most recent call last)",
      "\u001b[1;32m<ipython-input-3-9523c75cd9da>\u001b[0m in \u001b[0;36m<module>\u001b[1;34m\u001b[0m\n\u001b[0;32m     10\u001b[0m \u001b[0mdf\u001b[0m \u001b[1;33m=\u001b[0m \u001b[0mpd\u001b[0m\u001b[1;33m.\u001b[0m\u001b[0mread_csv\u001b[0m\u001b[1;33m(\u001b[0m\u001b[0min_config\u001b[0m\u001b[1;33m.\u001b[0m\u001b[0mshapes\u001b[0m\u001b[1;33m)\u001b[0m\u001b[1;33m\u001b[0m\u001b[1;33m\u001b[0m\u001b[0m\n\u001b[0;32m     11\u001b[0m \u001b[1;33m\u001b[0m\u001b[0m\n\u001b[1;32m---> 12\u001b[1;33m SqlDataCursor = AzurePackage(\"UploadToSQL\",\n\u001b[0m\u001b[0;32m     13\u001b[0m                               \u001b[0mdfTrimmed\u001b[0m\u001b[1;33m,\u001b[0m\u001b[1;33m\u001b[0m\u001b[1;33m\u001b[0m\u001b[0m\n\u001b[0;32m     14\u001b[0m                               \"elevations\")\n",
      "\u001b[1;32m~\\Documents\\MSc in Data Analytics\\Database and Ananytics\\Research Project\\dapTbElectricDublinBus\\createNewData\\pypackages\\Azure.py\u001b[0m in \u001b[0;36m__call__\u001b[1;34m(self, *args)\u001b[0m\n\u001b[0;32m     11\u001b[0m     \u001b[1;32mdef\u001b[0m \u001b[0m__call__\u001b[0m\u001b[1;33m(\u001b[0m\u001b[0mself\u001b[0m\u001b[1;33m,\u001b[0m \u001b[1;33m*\u001b[0m\u001b[0margs\u001b[0m\u001b[1;33m)\u001b[0m\u001b[1;33m:\u001b[0m\u001b[1;33m\u001b[0m\u001b[1;33m\u001b[0m\u001b[0m\n\u001b[0;32m     12\u001b[0m         \u001b[1;32mif\u001b[0m \u001b[0margs\u001b[0m\u001b[1;33m[\u001b[0m\u001b[1;36m0\u001b[0m\u001b[1;33m]\u001b[0m \u001b[1;33m==\u001b[0m \u001b[1;34m\"UploadToSQL\"\u001b[0m\u001b[1;33m:\u001b[0m\u001b[1;33m\u001b[0m\u001b[1;33m\u001b[0m\u001b[0m\n\u001b[1;32m---> 13\u001b[1;33m             \u001b[1;32mreturn\u001b[0m \u001b[0mself\u001b[0m\u001b[1;33m.\u001b[0m\u001b[0mUploadToSQL\u001b[0m\u001b[1;33m(\u001b[0m\u001b[0margs\u001b[0m\u001b[1;33m[\u001b[0m\u001b[1;36m1\u001b[0m\u001b[1;33m]\u001b[0m\u001b[1;33m,\u001b[0m \u001b[0margs\u001b[0m\u001b[1;33m[\u001b[0m\u001b[1;36m2\u001b[0m\u001b[1;33m]\u001b[0m\u001b[1;33m)\u001b[0m\u001b[1;33m\u001b[0m\u001b[1;33m\u001b[0m\u001b[0m\n\u001b[0m\u001b[0;32m     14\u001b[0m         \u001b[1;32mif\u001b[0m \u001b[0margs\u001b[0m\u001b[1;33m[\u001b[0m\u001b[1;36m0\u001b[0m\u001b[1;33m]\u001b[0m \u001b[1;33m==\u001b[0m \u001b[1;34m\"SelectDistinct\"\u001b[0m\u001b[1;33m:\u001b[0m\u001b[1;33m\u001b[0m\u001b[1;33m\u001b[0m\u001b[0m\n\u001b[0;32m     15\u001b[0m             \u001b[1;32mreturn\u001b[0m \u001b[0mself\u001b[0m\u001b[1;33m.\u001b[0m\u001b[0mSelectDistinct\u001b[0m\u001b[1;33m(\u001b[0m\u001b[0margs\u001b[0m\u001b[1;33m[\u001b[0m\u001b[1;36m1\u001b[0m\u001b[1;33m]\u001b[0m\u001b[1;33m,\u001b[0m \u001b[0margs\u001b[0m\u001b[1;33m[\u001b[0m\u001b[1;36m2\u001b[0m\u001b[1;33m]\u001b[0m\u001b[1;33m)\u001b[0m\u001b[1;33m\u001b[0m\u001b[1;33m\u001b[0m\u001b[0m\n",
      "\u001b[1;32m~\\Documents\\MSc in Data Analytics\\Database and Ananytics\\Research Project\\dapTbElectricDublinBus\\createNewData\\pypackages\\Azure.py\u001b[0m in \u001b[0;36mUploadToSQL\u001b[1;34m(self, df, tablename)\u001b[0m\n\u001b[0;32m     39\u001b[0m         \u001b[0mconn\u001b[0m \u001b[1;33m=\u001b[0m \u001b[0mself\u001b[0m\u001b[1;33m.\u001b[0m\u001b[0mAzureDBEng\u001b[0m\u001b[1;33m(\u001b[0m\u001b[1;33m)\u001b[0m\u001b[1;33m\u001b[0m\u001b[1;33m\u001b[0m\u001b[0m\n\u001b[0;32m     40\u001b[0m         \u001b[0mdf\u001b[0m\u001b[1;33m.\u001b[0m\u001b[0mto_sql\u001b[0m\u001b[1;33m(\u001b[0m\u001b[0mtablename\u001b[0m\u001b[1;33m,\u001b[0m \u001b[0mconn\u001b[0m\u001b[1;33m,\u001b[0m \u001b[0mif_exists\u001b[0m\u001b[1;33m=\u001b[0m\u001b[1;34m'replace'\u001b[0m\u001b[1;33m)\u001b[0m\u001b[1;33m\u001b[0m\u001b[1;33m\u001b[0m\u001b[0m\n\u001b[1;32m---> 41\u001b[1;33m         \u001b[0mconn\u001b[0m\u001b[1;33m.\u001b[0m\u001b[0mclose\u001b[0m\u001b[1;33m(\u001b[0m\u001b[1;33m)\u001b[0m\u001b[1;33m\u001b[0m\u001b[1;33m\u001b[0m\u001b[0m\n\u001b[0m\u001b[0;32m     42\u001b[0m \u001b[1;33m\u001b[0m\u001b[0m\n\u001b[0;32m     43\u001b[0m     \u001b[1;32mdef\u001b[0m \u001b[0mUploadToMongo\u001b[0m\u001b[1;33m(\u001b[0m\u001b[0mself\u001b[0m\u001b[1;33m,\u001b[0m \u001b[0mcollection\u001b[0m\u001b[1;33m,\u001b[0m \u001b[0mMongoData\u001b[0m\u001b[1;33m)\u001b[0m\u001b[1;33m:\u001b[0m\u001b[1;33m\u001b[0m\u001b[1;33m\u001b[0m\u001b[0m\n",
      "\u001b[1;31mAttributeError\u001b[0m: 'str' object has no attribute 'close'"
     ]
    }
   ],
   "source": [
    "df = pd.read_csv(in_config.shapes)\n",
    "SqlDataCursor = AzurePackage(\"UploadToSQL\",\n",
    "                              dfTrimmed,\n",
    "                              \"elevations\")"
   ]
  },
  {
   "cell_type": "code",
   "execution_count": null,
   "metadata": {},
   "outputs": [],
   "source": []
  }
 ]
}