{
 "metadata": {
  "language_info": {
   "codemirror_mode": {
    "name": "ipython",
    "version": 3
   },
   "file_extension": ".py",
   "mimetype": "text/x-python",
   "name": "python",
   "nbconvert_exporter": "python",
   "pygments_lexer": "ipython3",
   "version": "3.8.8"
  },
  "orig_nbformat": 2,
  "kernelspec": {
   "name": "python3",
   "display_name": "Python 3",
   "language": "python"
  }
 },
 "nbformat": 4,
 "nbformat_minor": 2,
 "cells": [
  {
   "source": [
    "Below can upload an entire table from a txt or csv file to the Azure SQL Database.\n",
    "Required fields:\n",
    "* \"UploadToSQL\" is the class name for uploading tables to the database.\n",
    "* tablepath is the path the file is located in.\n",
    "* tablename is the name of the new table to be created."
   ],
   "cell_type": "markdown",
   "metadata": {}
  },
  {
   "cell_type": "code",
   "execution_count": null,
   "metadata": {},
   "outputs": [],
   "source": [
    "import sys\n",
    "import os\n",
    "sys.path.append(os.environ.get(\"PYTHONPATH\"))\n",
    "\n",
    "import createNewData.data.config as in_config\n",
    "from createNewData.pypackages.Azure import Azure\n",
    "\n",
    "AzurePackage = Azure(in_config)\n",
    "\n",
    "SqlDataCursor = AzurePackage(\"UploadToSQL\",\n",
    "                              in_config.shapes,\n",
    "                              in_config.shapesname[0])"
   ]
  },
  {
   "source": [
    "Below collect all unique values in a specific column of a database.\n",
    "Required fields:\n",
    "* \"SelectDistinct\" is the class name for collecting the unique values.\n",
    "* shape_id is the table name.\n",
    "* [dbo].[shapes] is the name of the new table to be queried."
   ],
   "cell_type": "markdown",
   "metadata": {}
  },
  {
   "cell_type": "code",
   "execution_count": 9,
   "metadata": {},
   "outputs": [],
   "source": [
    "import sys\n",
    "import os\n",
    "sys.path.append(os.environ.get(\"PYTHONPATH\"))\n",
    "\n",
    "import createNewData.data.config as in_config\n",
    "from createNewData.pypackages.Azure import Azure\n",
    "\n",
    "AzurePackage = Azure(in_config)\n",
    "\n",
    "shapeIds = AzurePackage(\"SelectDistinct\",\n",
    "                              \"shape_id\",\n",
    "                              \"[dbo].[shapes]\")"
   ]
  },
  {
   "cell_type": "code",
   "execution_count": 1,
   "metadata": {},
   "outputs": [],
   "source": [
    "import sys\n",
    "import os\n",
    "import time\n",
    "import pymongo\n",
    "import urllib\n",
    "start_time = time.time()\n",
    "sys.path.append(os.environ.get(\"PYTHONPATH\"))\n",
    "\n",
    "try:\n",
    "    import createNewData.data.config as in_config\n",
    "    from createNewData.pypackages.Azure import Azure\n",
    "    from createNewData.pypackages.urlHandler import UrlHandler\n",
    "    AzurePackage = Azure(in_config)\n",
    "    Url = UrlHandler(in_config)\n",
    "    \n",
    "except ImportError as e:\n",
    "    print(\"Failed to import critical modules for this script.\")\n",
    "    print(\"Please confirm that files exist in the correct locations.\")\n",
    "    print(e)\n",
    "shapeData = {}\n",
    "\n",
    "for each in shapeIds:\n",
    "    try:\n",
    "        # Generate the Pandas table of all the Longtitudes and Latitudes\n",
    "        elevations = AzurePackage(\"SelectLongLat\",\n",
    "                                \"[shape_id],[shape_pt_lat],[shape_pt_lon]\",\n",
    "                                \"[dbo].[shapes]\",\n",
    "                                \"[shape_id]\",\n",
    "                                each)\n",
    "        # Generate the Json document for upload to MongoDB\n",
    "        shapeData[each.replace(\".\",\"_\")] = Url(\"mineElevationData\",elevations)\n",
    "    except Exception as e:\n",
    "        print(\"Send exception to exception handler.\")\n",
    "    \n",
    "    try:\n",
    "        # Upload the Json document to MongoDB\n",
    "        AzurePackage(\"UploadToMongo\",\"shapes\",shapeData)\n",
    "    except Exception as e:\n",
    "        print(\"Send exception to exception handler.\")\n",
    "\n",
    "\n",
    "    print(\"%s seconds\" % (time.time() - start_time))\n",
    "\n"
   ]
  },
  {
   "cell_type": "code",
   "execution_count": null,
   "metadata": {},
   "outputs": [],
   "source": []
  }
 ]
}