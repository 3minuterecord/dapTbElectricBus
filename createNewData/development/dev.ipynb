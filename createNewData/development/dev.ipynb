{
 "metadata": {
  "language_info": {
   "codemirror_mode": {
    "name": "ipython",
    "version": 3
   },
   "file_extension": ".py",
   "mimetype": "text/x-python",
   "name": "python",
   "nbconvert_exporter": "python",
   "pygments_lexer": "ipython3",
   "version": "3.8.5"
  },
  "orig_nbformat": 2,
  "kernelspec": {
   "name": "python3",
   "display_name": "Python 3",
   "language": "python"
  }
 },
 "nbformat": 4,
 "nbformat_minor": 2,
 "cells": [
  {
   "source": [
    "Below can upload an entire table from a txt or csv file to the Azure SQL Database.\n",
    "Required fields:\n",
    "* \"UploadToSQL\" is the class name for uploading tables to the database.\n",
    "* tablepath is the path the file is located in.\n",
    "* tablename is the name of the new table to be created."
   ],
   "cell_type": "markdown",
   "metadata": {}
  },
  {
   "cell_type": "code",
   "execution_count": null,
   "metadata": {},
   "outputs": [],
   "source": [
    "import sys\n",
    "import os\n",
    "sys.path.append(os.environ.get(\"PYTHONPATH\"))\n",
    "\n",
    "import createNewData.data.config as in_config\n",
    "from createNewData.pypackages.Azure import Azure\n",
    "\n",
    "AzurePackage = Azure(in_config)\n",
    "\n",
    "SqlDataCursor = AzurePackage(\"UploadToSQL\",\n",
    "                              in_config.shapes,\n",
    "                              in_config.shapesname[0])\n",
    "print(SqlDataCursor)\n"
   ]
  },
  {
   "source": [
    "Below collect all unique values in a specific column of a database.\n",
    "Required fields:\n",
    "* \"SelectDistinct\" is the class name for collecting the unique values.\n",
    "* shape_id is the table name.\n",
    "* [dbo].[shapes] is the name of the new table to be queried."
   ],
   "cell_type": "markdown",
   "metadata": {}
  },
  {
   "cell_type": "code",
   "execution_count": 1,
   "metadata": {},
   "outputs": [
    {
     "output_type": "stream",
     "name": "stdout",
     "text": [
      "            shape_id\n0     60-1-b12-1.1.O\n1     60-1-b12-1.2.O\n2     60-1-b12-1.3.I\n3     60-1-b12-1.4.I\n4     60-1-d12-1.1.O\n..               ...\n652  60-9-b12-1.13.I\n653  60-9-d12-1.10.O\n654  60-9-d12-1.11.O\n655  60-9-d12-1.12.I\n656  60-9-d12-1.13.I\n\n[657 rows x 1 columns]\n"
     ]
    }
   ],
   "source": [
    "import sys\n",
    "import os\n",
    "sys.path.append(os.environ.get(\"PYTHONPATH\"))\n",
    "\n",
    "import createNewData.data.config as in_config\n",
    "from createNewData.pypackages.Azure import Azure\n",
    "\n",
    "AzurePackage = Azure(in_config)\n",
    "\n",
    "shapeIds = AzurePackage(\"SelectDistinct\",\n",
    "                              \"shape_id\",\n",
    "                              \"[dbo].[shapes]\")\n",
    "print(shapeIds)"
   ]
  },
  {
   "cell_type": "code",
   "execution_count": 1,
   "metadata": {},
   "outputs": [
    {
     "output_type": "stream",
     "name": "stdout",
     "text": [
      "           shape_id  shape_pt_lat  shape_pt_lon\n0    60-1-b12-1.1.O     53.391176     -6.262199\n1    60-1-b12-1.1.O     53.391189     -6.262439\n2    60-1-b12-1.1.O     53.391871     -6.262366\n3    60-1-b12-1.1.O     53.391854     -6.260548\n4    60-1-b12-1.1.O     53.391815     -6.259722\n..              ...           ...           ...\n195  60-1-b12-1.1.O     53.326458     -6.214432\n196  60-1-b12-1.1.O     53.324994     -6.212706\n197  60-1-b12-1.1.O     53.324803     -6.212564\n198  60-1-b12-1.1.O     53.324323     -6.212314\n199  60-1-b12-1.1.O     53.324432     -6.211769\n\n[200 rows x 3 columns]\n"
     ]
    }
   ],
   "source": [
    "import sys\n",
    "import os\n",
    "sys.path.append(os.environ.get(\"PYTHONPATH\"))\n",
    "\n",
    "import createNewData.data.config as in_config\n",
    "from createNewData.pypackages.Azure import Azure\n",
    "from createNewData.pypackages.urlHandler import UrlHandler\n",
    "\n",
    "AzurePackage = Azure(in_config)\n",
    "Url = UrlHandler(in_config)\n",
    "\n",
    "shapeData = AzurePackage(\"SelectLongLat\",\n",
    "                         \"[shape_id],[shape_pt_lat],[shape_pt_lon]\",\n",
    "                         \"[dbo].[shapes]\",\n",
    "                         \"[shape_id]\",\n",
    "                         \"60-1-b12-1.1.O\")\n",
    "# Url(\"mineElevationData\",shapeData)\n",
    "\n",
    "print(shapeData)"
   ]
  },
  {
   "cell_type": "code",
   "execution_count": 2,
   "metadata": {
    "tags": [
     "outputPrepend"
    ]
   },
   "outputs": [
    {
     "output_type": "stream",
     "name": "stdout",
     "text": [
      "e\": 53.3772355201286\n        },\n        {\n            \"elevation\": 214,\n            \"latitude\": 53.3772355201286,\n            \"longitude\": 53.3772355201286\n        },\n        {\n            \"elevation\": 193,\n            \"latitude\": 53.377058511649196,\n            \"longitude\": 53.377058511649196\n        },\n        {\n            \"elevation\": 193,\n            \"latitude\": 53.3764593683708,\n            \"longitude\": 53.3764593683708\n        },\n        {\n            \"elevation\": 193,\n            \"latitude\": 53.3760617558463,\n            \"longitude\": 53.3760617558463\n        },\n        {\n            \"elevation\": 193,\n            \"latitude\": 53.375813764292296,\n            \"longitude\": 53.375813764292296\n        },\n        {\n            \"elevation\": 193,\n            \"latitude\": 53.37522795258761,\n            \"longitude\": 53.37522795258761\n        },\n        {\n            \"elevation\": 193,\n            \"latitude\": 53.37522795258761,\n            \"longitude\": 53.37522795258761\n        },\n        {\n            \"elevation\": 175,\n            \"latitude\": 53.37432994497,\n            \"longitude\": 53.37432994497\n        },\n        {\n            \"elevation\": 175,\n            \"latitude\": 53.3730458970757,\n            \"longitude\": 53.3730458970757\n        },\n        {\n            \"elevation\": 175,\n            \"latitude\": 53.3730458970757,\n            \"longitude\": 53.3730458970757\n        },\n        {\n            \"elevation\": 168,\n            \"latitude\": 53.3715953504084,\n            \"longitude\": 53.3715953504084\n        },\n        {\n            \"elevation\": 168,\n            \"latitude\": 53.3715953504084,\n            \"longitude\": 53.3715953504084\n        },\n        {\n            \"elevation\": 161,\n            \"latitude\": 53.3699561575964,\n            \"longitude\": 53.3699561575964\n        },\n        {\n            \"elevation\": 161,\n            \"latitude\": 53.3699561575964,\n            \"longitude\": 53.3699561575964\n        },\n        {\n            \"elevation\": 161,\n            \"latitude\": 53.3687627975027,\n            \"longitude\": 53.3687627975027\n        },\n        {\n            \"elevation\": 152,\n            \"latitude\": 53.3684413959583,\n            \"longitude\": 53.3684413959583\n        },\n        {\n            \"elevation\": 152,\n            \"latitude\": 53.3677444763064,\n            \"longitude\": 53.3677444763064\n        },\n        {\n            \"elevation\": 152,\n            \"latitude\": 53.3671338705326,\n            \"longitude\": 53.3671338705326\n        },\n        {\n            \"elevation\": 152,\n            \"latitude\": 53.3671338705326,\n            \"longitude\": 53.3671338705326\n        },\n        {\n            \"elevation\": 135,\n            \"latitude\": 53.3666139701087,\n            \"longitude\": 53.3666139701087\n        },\n        {\n            \"elevation\": 135,\n            \"latitude\": 53.3662478735248,\n            \"longitude\": 53.3662478735248\n        },\n        {\n            \"elevation\": 135,\n            \"latitude\": 53.365891417868795,\n            \"longitude\": 53.365891417868795\n        },\n        {\n            \"elevation\": 135,\n            \"latitude\": 53.3647972941455,\n            \"longitude\": 53.3647972941455\n        },\n        {\n            \"elevation\": 134,\n            \"latitude\": 53.3639538043701,\n            \"longitude\": 53.3639538043701\n        },\n        {\n            \"elevation\": 134,\n            \"latitude\": 53.3639538043701,\n            \"longitude\": 53.3639538043701\n        },\n        {\n            \"elevation\": 134,\n            \"latitude\": 53.3628629576337,\n            \"longitude\": 53.3628629576337\n        },\n        {\n            \"elevation\": 134,\n            \"latitude\": 53.3627643665833,\n            \"longitude\": 53.3627643665833\n        },\n        {\n            \"elevation\": 137,\n            \"latitude\": 53.36228543392421,\n            \"longitude\": 53.36228543392421\n        },\n        {\n            \"elevation\": 137,\n            \"latitude\": 53.36228543392421,\n            \"longitude\": 53.36228543392421\n        },\n        {\n            \"elevation\": 137,\n            \"latitude\": 53.3617179862525,\n            \"longitude\": 53.3617179862525\n        },\n        {\n            \"elevation\": 137,\n            \"latitude\": 53.3608832428866,\n            \"longitude\": 53.3608832428866\n        },\n        {\n            \"elevation\": 121,\n            \"latitude\": 53.3600235164887,\n            \"longitude\": 53.3600235164887\n        },\n        {\n            \"elevation\": 121,\n            \"latitude\": 53.3600235164887,\n            \"longitude\": 53.3600235164887\n        },\n        {\n            \"elevation\": 121,\n            \"latitude\": 53.359216149339,\n            \"longitude\": 53.359216149339\n        },\n        {\n            \"elevation\": 121,\n            \"latitude\": 53.358817830164206,\n            \"longitude\": 53.358817830164206\n        },\n        {\n            \"elevation\": 118,\n            \"latitude\": 53.35829746714721,\n            \"longitude\": 53.35829746714721\n        },\n        {\n            \"elevation\": 118,\n            \"latitude\": 53.358139711771095,\n            \"longitude\": 53.358139711771095\n        },\n        {\n            \"elevation\": 118,\n            \"latitude\": 53.3578750365225,\n            \"longitude\": 53.3578750365225\n        },\n        {\n            \"elevation\": 118,\n            \"latitude\": 53.3578750365225,\n            \"longitude\": 53.3578750365225\n        },\n        {\n            \"elevation\": 118,\n            \"latitude\": 53.357512642058,\n            \"longitude\": 53.357512642058\n        },\n        {\n            \"elevation\": 118,\n            \"latitude\": 53.35667983665879,\n            \"longitude\": 53.35667983665879\n        },\n        {\n            \"elevation\": 118,\n            \"latitude\": 53.35667983665879,\n            \"longitude\": 53.35667983665879\n        },\n        {\n            \"elevation\": 117,\n            \"latitude\": 53.35603282617271,\n            \"longitude\": 53.35603282617271\n        },\n        {\n            \"elevation\": 117,\n            \"latitude\": 53.3552692540547,\n            \"longitude\": 53.3552692540547\n        },\n        {\n            \"elevation\": 117,\n            \"latitude\": 53.35509050628121,\n            \"longitude\": 53.35509050628121\n        },\n        {\n            \"elevation\": 117,\n            \"latitude\": 53.3549619095461,\n            \"longitude\": 53.3549619095461\n        },\n        {\n            \"elevation\": 117,\n            \"latitude\": 53.3546880596161,\n            \"longitude\": 53.3546880596161\n        },\n        {\n            \"elevation\": 117,\n            \"latitude\": 53.3550169576447,\n            \"longitude\": 53.3550169576447\n        },\n        {\n            \"elevation\": 117,\n            \"latitude\": 53.354196053180296,\n            \"longitude\": 53.354196053180296\n        },\n        {\n            \"elevation\": 122,\n            \"latitude\": 53.3538845187619,\n            \"longitude\": 53.3538845187619\n        },\n        {\n            \"elevation\": 122,\n            \"latitude\": 53.3533269494555,\n            \"longitude\": 53.3533269494555\n        },\n        {\n            \"elevation\": 122,\n            \"latitude\": 53.3533269494555,\n            \"longitude\": 53.3533269494555\n        },\n        {\n            \"elevation\": 122,\n            \"latitude\": 53.3529157261009,\n            \"longitude\": 53.3529157261009\n        },\n        {\n            \"elevation\": 122,\n            \"latitude\": 53.3526225897448,\n            \"longitude\": 53.3526225897448\n        },\n        {\n            \"elevation\": 162,\n            \"latitude\": 53.34859701954921,\n            \"longitude\": 53.34859701954921\n        },\n        {\n            \"elevation\": 162,\n            \"latitude\": 53.34859701954921,\n            \"longitude\": 53.34859701954921\n        },\n        {\n            \"elevation\": 166,\n            \"latitude\": 53.34758437864701,\n            \"longitude\": 53.34758437864701\n        },\n        {\n            \"elevation\": 166,\n            \"latitude\": 53.3469584337101,\n            \"longitude\": 53.3469584337101\n        },\n        {\n            \"elevation\": 166,\n            \"latitude\": 53.3467855701351,\n            \"longitude\": 53.3467855701351\n        },\n        {\n            \"elevation\": 166,\n            \"latitude\": 53.346547854867296,\n            \"longitude\": 53.346547854867296\n        },\n        {\n            \"elevation\": 166,\n            \"latitude\": 53.345932638821296,\n            \"longitude\": 53.345932638821296\n        },\n        {\n            \"elevation\": 166,\n            \"latitude\": 53.3459080951221,\n            \"longitude\": 53.3459080951221\n        },\n        {\n            \"elevation\": 166,\n            \"latitude\": 53.3459139962652,\n            \"longitude\": 53.3459139962652\n        },\n        {\n            \"elevation\": 166,\n            \"latitude\": 53.3459139962652,\n            \"longitude\": 53.3459139962652\n        },\n        {\n            \"elevation\": 166,\n            \"latitude\": 53.3458659546463,\n            \"longitude\": 53.3458659546463\n        },\n        {\n            \"elevation\": 166,\n            \"latitude\": 53.3457655205903,\n            \"longitude\": 53.3457655205903\n        },\n        {\n            \"elevation\": 166,\n            \"latitude\": 53.34560499339021,\n            \"longitude\": 53.34560499339021\n        },\n        {\n            \"elevation\": 166,\n            \"latitude\": 53.34560499339021,\n            \"longitude\": 53.34560499339021\n        },\n        {\n            \"elevation\": 166,\n            \"latitude\": 53.3455484062457,\n            \"longitude\": 53.3455484062457\n        },\n        {\n            \"elevation\": 166,\n            \"latitude\": 53.3454598499056,\n            \"longitude\": 53.3454598499056\n        },\n        {\n            \"elevation\": 166,\n            \"latitude\": 53.345290005917704,\n            \"longitude\": 53.345290005917704\n        },\n        {\n            \"elevation\": 166,\n            \"latitude\": 53.345132008589495,\n            \"longitude\": 53.345132008589495\n        },\n        {\n            \"elevation\": 166,\n            \"latitude\": 53.3449297581984,\n            \"longitude\": 53.3449297581984\n        },\n        {\n            \"elevation\": 166,\n            \"latitude\": 53.3447840499211,\n            \"longitude\": 53.3447840499211\n        },\n        {\n            \"elevation\": 165,\n            \"latitude\": 53.3435691160017,\n            \"longitude\": 53.3435691160017\n        },\n        {\n            \"elevation\": 165,\n            \"latitude\": 53.34332932068111,\n            \"longitude\": 53.34332932068111\n        },\n        {\n            \"elevation\": 165,\n            \"latitude\": 53.34332932068111,\n            \"longitude\": 53.34332932068111\n        },\n        {\n            \"elevation\": 165,\n            \"latitude\": 53.3431738948423,\n            \"longitude\": 53.3431738948423\n        },\n        {\n            \"elevation\": 165,\n            \"latitude\": 53.3429085226266,\n            \"longitude\": 53.3429085226266\n        },\n        {\n            \"elevation\": 165,\n            \"latitude\": 53.3429085226266,\n            \"longitude\": 53.3429085226266\n        },\n        {\n            \"elevation\": 165,\n            \"latitude\": 53.3426906818075,\n            \"longitude\": 53.3426906818075\n        },\n        {\n            \"elevation\": 165,\n            \"latitude\": 53.342591555813996,\n            \"longitude\": 53.342591555813996\n        },\n        {\n            \"elevation\": 165,\n            \"latitude\": 53.342591555813996,\n            \"longitude\": 53.342591555813996\n        },\n        {\n            \"elevation\": 165,\n            \"latitude\": 53.3424417528482,\n            \"longitude\": 53.3424417528482\n        },\n        {\n            \"elevation\": 165,\n            \"latitude\": 53.3421733930535,\n            \"longitude\": 53.3421733930535\n        },\n        {\n            \"elevation\": 165,\n            \"latitude\": 53.3421733930535,\n            \"longitude\": 53.3421733930535\n        },\n        {\n            \"elevation\": 165,\n            \"latitude\": 53.341745708824995,\n            \"longitude\": 53.341745708824995\n        },\n        {\n            \"elevation\": 165,\n            \"latitude\": 53.341745708824995,\n            \"longitude\": 53.341745708824995\n        },\n        {\n            \"elevation\": 147,\n            \"latitude\": 53.34151152903979,\n            \"longitude\": 53.34151152903979\n        },\n        {\n            \"elevation\": 165,\n            \"latitude\": 53.34170907145489,\n            \"longitude\": 53.34170907145489\n        },\n        {\n            \"elevation\": 165,\n            \"latitude\": 53.341853143060895,\n            \"longitude\": 53.341853143060895\n        },\n        {\n            \"elevation\": 165,\n            \"latitude\": 53.3418493507821,\n            \"longitude\": 53.3418493507821\n        },\n        {\n            \"elevation\": 165,\n            \"latitude\": 53.3418493507821,\n            \"longitude\": 53.3418493507821\n        },\n        {\n            \"elevation\": 165,\n            \"latitude\": 53.3418296007409,\n            \"longitude\": 53.3418296007409\n        },\n        {\n            \"elevation\": 165,\n            \"latitude\": 53.34176426808639,\n            \"longitude\": 53.34176426808639\n        },\n        {\n            \"elevation\": 147,\n            \"latitude\": 53.341150827327496,\n            \"longitude\": 53.341150827327496\n        },\n        {\n            \"elevation\": 147,\n            \"latitude\": 53.3408744280135,\n            \"longitude\": 53.3408744280135\n        },\n        {\n            \"elevation\": 147,\n            \"latitude\": 53.3400795862142,\n            \"longitude\": 53.3400795862142\n        },\n        {\n            \"elevation\": 147,\n            \"latitude\": 53.339905564473604,\n            \"longitude\": 53.339905564473604\n        },\n        {\n            \"elevation\": 147,\n            \"latitude\": 53.339714247647294,\n            \"longitude\": 53.339714247647294\n        },\n        {\n            \"elevation\": 140,\n            \"latitude\": 53.3395694082901,\n            \"longitude\": 53.3395694082901\n        },\n        {\n            \"elevation\": 140,\n            \"latitude\": 53.339163402551,\n            \"longitude\": 53.339163402551\n        },\n        {\n            \"elevation\": 140,\n            \"latitude\": 53.339163402551,\n            \"longitude\": 53.339163402551\n        },\n        {\n            \"elevation\": 140,\n            \"latitude\": 53.3387663793252,\n            \"longitude\": 53.3387663793252\n        },\n        {\n            \"elevation\": 140,\n            \"latitude\": 53.3381571665889,\n            \"longitude\": 53.3381571665889\n        },\n        {\n            \"elevation\": 140,\n            \"latitude\": 53.3376054259293,\n            \"longitude\": 53.3376054259293\n        },\n        {\n            \"elevation\": 140,\n            \"latitude\": 53.3376054259293,\n            \"longitude\": 53.3376054259293\n        },\n        {\n            \"elevation\": 112,\n            \"latitude\": 53.3370098899936,\n            \"longitude\": 53.3370098899936\n        },\n        {\n            \"elevation\": 112,\n            \"latitude\": 53.3363613527849,\n            \"longitude\": 53.3363613527849\n        },\n        {\n            \"elevation\": 112,\n            \"latitude\": 53.336189788541404,\n            \"longitude\": 53.336189788541404\n        },\n        {\n            \"elevation\": 112,\n            \"latitude\": 53.3361260156149,\n            \"longitude\": 53.3361260156149\n        },\n        {\n            \"elevation\": 112,\n            \"latitude\": 53.336060676915,\n            \"longitude\": 53.336060676915\n        },\n        {\n            \"elevation\": 112,\n            \"latitude\": 53.3359035307292,\n            \"longitude\": 53.3359035307292\n        },\n        {\n            \"elevation\": 112,\n            \"latitude\": 53.335759838289206,\n            \"longitude\": 53.335759838289206\n        },\n        {\n            \"elevation\": 112,\n            \"latitude\": 53.3355921062387,\n            \"longitude\": 53.3355921062387\n        },\n        {\n            \"elevation\": 112,\n            \"latitude\": 53.335444129784,\n            \"longitude\": 53.335444129784\n        },\n        {\n            \"elevation\": 112,\n            \"latitude\": 53.335444129784,\n            \"longitude\": 53.335444129784\n        },\n        {\n            \"elevation\": 98,\n            \"latitude\": 53.3347821494705,\n            \"longitude\": 53.3347821494705\n        },\n        {\n            \"elevation\": 98,\n            \"latitude\": 53.334231539187094,\n            \"longitude\": 53.334231539187094\n        },\n        {\n            \"elevation\": 98,\n            \"latitude\": 53.334231539187094,\n            \"longitude\": 53.334231539187094\n        },\n        {\n            \"elevation\": 99,\n            \"latitude\": 53.3331846487653,\n            \"longitude\": 53.3331846487653\n        },\n        {\n            \"elevation\": 99,\n            \"latitude\": 53.3331846487653,\n            \"longitude\": 53.3331846487653\n        },\n        {\n            \"elevation\": 99,\n            \"latitude\": 53.332424058125895,\n            \"longitude\": 53.332424058125895\n        },\n        {\n            \"elevation\": 99,\n            \"latitude\": 53.3322985264034,\n            \"longitude\": 53.3322985264034\n        },\n        {\n            \"elevation\": 99,\n            \"latitude\": 53.3321842218741,\n            \"longitude\": 53.3321842218741\n        },\n        {\n            \"elevation\": 99,\n            \"latitude\": 53.3320685704773,\n            \"longitude\": 53.3320685704773\n        },\n        {\n            \"elevation\": 97,\n            \"latitude\": 53.3309190236126,\n            \"longitude\": 53.3309190236126\n        },\n        {\n            \"elevation\": 97,\n            \"latitude\": 53.33069356114571,\n            \"longitude\": 53.33069356114571\n        },\n        {\n            \"elevation\": 97,\n            \"latitude\": 53.330032669671404,\n            \"longitude\": 53.330032669671404\n        },\n        {\n            \"elevation\": 97,\n            \"latitude\": 53.3296244123763,\n            \"longitude\": 53.3296244123763\n        },\n        {\n            \"elevation\": 97,\n            \"latitude\": 53.3294595825517,\n            \"longitude\": 53.3294595825517\n        },\n        {\n            \"elevation\": 96,\n            \"latitude\": 53.3291645047165,\n            \"longitude\": 53.3291645047165\n        },\n        {\n            \"elevation\": 96,\n            \"latitude\": 53.3291645047165,\n            \"longitude\": 53.3291645047165\n        },\n        {\n            \"elevation\": 96,\n            \"latitude\": 53.328953862320006,\n            \"longitude\": 53.328953862320006\n        },\n        {\n            \"elevation\": 96,\n            \"latitude\": 53.328800035243304,\n            \"longitude\": 53.328800035243304\n        },\n        {\n            \"elevation\": 96,\n            \"latitude\": 53.32868371090299,\n            \"longitude\": 53.32868371090299\n        },\n        {\n            \"elevation\": 96,\n            \"latitude\": 53.3284193992344,\n            \"longitude\": 53.3284193992344\n        },\n        {\n            \"elevation\": 96,\n            \"latitude\": 53.328276800721504,\n            \"longitude\": 53.328276800721504\n        },\n        {\n            \"elevation\": 96,\n            \"latitude\": 53.3270008240098,\n            \"longitude\": 53.3270008240098\n        },\n        {\n            \"elevation\": 96,\n            \"latitude\": 53.3267392060691,\n            \"longitude\": 53.3267392060691\n        },\n        {\n            \"elevation\": 96,\n            \"latitude\": 53.326621309523404,\n            \"longitude\": 53.326621309523404\n        },\n        {\n            \"elevation\": 96,\n            \"latitude\": 53.326621309523404,\n            \"longitude\": 53.326621309523404\n        },\n        {\n            \"elevation\": 96,\n            \"latitude\": 53.3264578262163,\n            \"longitude\": 53.3264578262163\n        },\n        {\n            \"elevation\": 101,\n            \"latitude\": 53.3249938730718,\n            \"longitude\": 53.3249938730718\n        },\n        {\n            \"elevation\": 101,\n            \"latitude\": 53.3248029906774,\n            \"longitude\": 53.3248029906774\n        },\n        {\n            \"elevation\": 101,\n            \"latitude\": 53.32432286670711,\n            \"longitude\": 53.32432286670711\n        },\n        {\n            \"elevation\": 101,\n            \"latitude\": 53.3244315442597,\n            \"longitude\": 53.3244315442597\n        }\n    ]\n}\n"
     ]
    }
   ],
   "source": [
    "a = Url(\"mineElevationData\",shapeData)\n",
    "print(a)\n",
    "\n",
    "\n"
   ]
  },
  {
   "cell_type": "code",
   "execution_count": null,
   "metadata": {},
   "outputs": [],
   "source": []
  }
 ]
}