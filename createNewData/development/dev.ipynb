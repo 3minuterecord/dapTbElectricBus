{
 "metadata": {
  "language_info": {
   "codemirror_mode": {
    "name": "ipython",
    "version": 3
   },
   "file_extension": ".py",
   "mimetype": "text/x-python",
   "name": "python",
   "nbconvert_exporter": "python",
   "pygments_lexer": "ipython3",
   "version": "3.8.5"
  },
  "orig_nbformat": 2,
  "kernelspec": {
   "name": "python3",
   "display_name": "Python 3",
   "language": "python"
  }
 },
 "nbformat": 4,
 "nbformat_minor": 2,
 "cells": [
  {
   "source": [
    "This file was used for the development of the URL Handler package in packages.\n",
    "Sources include:\n",
    "https://github.com/Jorl17/open-elevation/blob/master/docs/api.md\n",
    "https://stackoverflow.com/questions/53482413/calling-an-api-with-urllib-or-urllib2-using-python-3\n"
   ],
   "cell_type": "markdown",
   "metadata": {}
  },
  {
   "cell_type": "code",
   "execution_count": null,
   "metadata": {},
   "outputs": [],
   "source": [
    "import urllib\n",
    "import json \n",
    "data =  {\n",
    "        \"locations\": [{\n",
    "                \"latitude\": 53.3296309426544,\n",
    "                \"longitude\": -6.24901208670741\n",
    "                    },\n",
    "                    {\n",
    "                \"latitude\": 53.3293164971423,\n",
    "                \"longitude\": -6.24840939073252\n",
    "                    }]\n",
    "        }\n",
    "\n",
    "body = str.encode(json.dumps(data))\n",
    "\n",
    "url = 'https://api.open-elevation.com/api/v1/lookup'\n",
    "headers = {'Accept':'application/json','Content-Type':'application/json'}\n",
    "\n",
    "req = urllib.request.Request(url, body, headers)\n",
    "response = urllib.request.urlopen(req)\n",
    "jsonData = response.read().decode('utf8').replace(\"'\", '\"')\n",
    "\n",
    "elevationData = json.loads(jsonData)\n",
    "s = json.dumps(elevationData, indent=4, sort_keys=True)\n",
    "print(s)\n"
   ]
  },
  {
   "source": [
    "Needed to add the project path to the sys.path in order for it to recognise the import module."
   ],
   "cell_type": "markdown",
   "metadata": {}
  },
  {
   "source": [
    "The below was used to develop the code to call the elevation data from within the class stucture."
   ],
   "cell_type": "markdown",
   "metadata": {}
  },
  {
   "cell_type": "code",
   "execution_count": 1,
   "metadata": {},
   "outputs": [
    {
     "output_type": "error",
     "ename": "ModuleNotFoundError",
     "evalue": "No module named 'createNewData.pyPackages'",
     "traceback": [
      "\u001b[1;31m---------------------------------------------------------------------------\u001b[0m",
      "\u001b[1;31mModuleNotFoundError\u001b[0m                       Traceback (most recent call last)",
      "\u001b[1;32m<ipython-input-1-af4fe85cac98>\u001b[0m in \u001b[0;36m<module>\u001b[1;34m\u001b[0m\n\u001b[0;32m      4\u001b[0m \u001b[1;33m\u001b[0m\u001b[0m\n\u001b[0;32m      5\u001b[0m \u001b[1;32mimport\u001b[0m \u001b[0mcreateNewData\u001b[0m\u001b[1;33m.\u001b[0m\u001b[0mdata\u001b[0m\u001b[1;33m.\u001b[0m\u001b[0mconfig\u001b[0m \u001b[1;32mas\u001b[0m \u001b[0min_config\u001b[0m\u001b[1;33m\u001b[0m\u001b[1;33m\u001b[0m\u001b[0m\n\u001b[1;32m----> 6\u001b[1;33m \u001b[1;32mfrom\u001b[0m \u001b[0mcreateNewData\u001b[0m\u001b[1;33m.\u001b[0m\u001b[0mpyPackages\u001b[0m\u001b[1;33m.\u001b[0m\u001b[0mAzure\u001b[0m \u001b[1;32mimport\u001b[0m \u001b[0mAzure\u001b[0m\u001b[1;33m\u001b[0m\u001b[1;33m\u001b[0m\u001b[0m\n\u001b[0m\u001b[0;32m      7\u001b[0m \u001b[1;33m\u001b[0m\u001b[0m\n\u001b[0;32m      8\u001b[0m \u001b[0mSqlDataCursor\u001b[0m \u001b[1;33m=\u001b[0m \u001b[0mAzure\u001b[0m\u001b[1;33m(\u001b[0m\u001b[0min_config\u001b[0m\u001b[1;33m)\u001b[0m\u001b[1;33m.\u001b[0m\u001b[0mAzureDBConnect\u001b[0m\u001b[1;33m(\u001b[0m\u001b[1;33m)\u001b[0m\u001b[1;33m\u001b[0m\u001b[1;33m\u001b[0m\u001b[0m\n",
      "\u001b[1;31mModuleNotFoundError\u001b[0m: No module named 'createNewData.pyPackages'"
     ]
    }
   ],
   "source": [
    "import sys\n",
    "import os\n",
    "sys.path.append(os.environ.get(\"PYTHONPATH\"))\n",
    "\n",
    "import createNewData.data.config as in_config\n",
    "from createNewData.pyPackages.Azure import Azure\n",
    "\n",
    "SqlDataCursor = Azure(in_config).AzureDBConnect()\n",
    "\n",
    "print(SqlDataCursor)\n",
    "SqlDataCursor.close()"
   ]
  },
  {
   "cell_type": "code",
   "execution_count": 2,
   "metadata": {},
   "outputs": [
    {
     "output_type": "stream",
     "name": "stdout",
     "text": [
      "test\nNone\n"
     ]
    }
   ],
   "source": [
    "import sys\n",
    "import os\n",
    "sys.path.append(os.environ.get(\"PYTHONPATH\"))\n",
    "\n",
    "import createNewData.data.config as in_config\n",
    "from createNewData.pypackages.Azure import Azure\n",
    "\n",
    "AzurePackage = Azure(in_config)\n",
    "\n",
    "SqlDataCursor = AzurePackage.__call__(\"UploadToSQL\", \n",
    "                                      tablepath=in_config.shapes,                                                                       tablename=in_config.shapesname[0])\n",
    "print(SqlDataCursor)\n"
   ]
  },
  {
   "cell_type": "code",
   "execution_count": 1,
   "metadata": {},
   "outputs": [
    {
     "output_type": "stream",
     "name": "stdout",
     "text": [
      "SELECT DISTINCT shape_id FROM [dbo].[shapes]\n",
      "None\n"
     ]
    }
   ],
   "source": [
    "import sys\n",
    "import os\n",
    "sys.path.append(os.environ.get(\"PYTHONPATH\"))\n",
    "\n",
    "import createNewData.data.config as in_config\n",
    "from createNewData.pypackages.Azure import Azure\n",
    "\n",
    "AzurePackage = Azure(in_config)\n",
    "\n",
    "SqlDataCursor = AzurePackage(\"SelectDistinct\",\n",
    "                              \"shape_id\",\n",
    "                              \"[dbo].[shapes]\")\n",
    "print(SqlDataCursor)"
   ]
  },
  {
   "cell_type": "code",
   "execution_count": null,
   "metadata": {},
   "outputs": [],
   "source": []
  }
 ]
}