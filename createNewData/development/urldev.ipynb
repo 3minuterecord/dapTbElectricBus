{
 "metadata": {
  "language_info": {
   "codemirror_mode": {
    "name": "ipython",
    "version": 3
   },
   "file_extension": ".py",
   "mimetype": "text/x-python",
   "name": "python",
   "nbconvert_exporter": "python",
   "pygments_lexer": "ipython3",
   "version": "3.8.5"
  },
  "orig_nbformat": 2,
  "kernelspec": {
   "name": "python3",
   "display_name": "Python 3",
   "language": "python"
  }
 },
 "nbformat": 4,
 "nbformat_minor": 2,
 "cells": [
  {
   "source": [
    "This file was used for the development of the URL Handler package in packages.\n",
    "Sources include:\n",
    "https://github.com/Jorl17/open-elevation/blob/master/docs/api.md\n",
    "https://stackoverflow.com/questions/53482413/calling-an-api-with-urllib-or-urllib2-using-python-3\n"
   ],
   "cell_type": "markdown",
   "metadata": {}
  },
  {
   "cell_type": "code",
   "execution_count": 1,
   "metadata": {},
   "outputs": [
    {
     "output_type": "stream",
     "name": "stdout",
     "text": [
      "{\n    \"results\": [\n        {\n            \"elevation\": 15,\n            \"latitude\": 53.3296309426544,\n            \"longitude\": -6.24901208670741\n        },\n        {\n            \"elevation\": 15,\n            \"latitude\": 53.3293164971423,\n            \"longitude\": -6.24840939073252\n        }\n    ]\n}\n"
     ]
    }
   ],
   "source": [
    "import urllib\n",
    "import json \n",
    "data =  {\n",
    "        \"locations\": [{\n",
    "                \"latitude\": 53.3296309426544,\n",
    "                \"longitude\": -6.24901208670741\n",
    "                    },\n",
    "                    {\n",
    "                \"latitude\": 53.3293164971423,\n",
    "                \"longitude\": -6.24840939073252\n",
    "                    }]\n",
    "        }\n",
    "\n",
    "body = str.encode(json.dumps(data))\n",
    "\n",
    "url = 'https://api.open-elevation.com/api/v1/lookup'\n",
    "headers = {'Accept':'application/json','Content-Type':'application/json'}\n",
    "\n",
    "req = urllib.request.Request(url, body, headers)\n",
    "response = urllib.request.urlopen(req)\n",
    "jsonData = response.read().decode('utf8').replace(\"'\", '\"')\n",
    "\n",
    "elevationData = json.loads(jsonData)\n",
    "s = json.dumps(elevationData, indent=4, sort_keys=True)\n",
    "print(s)\n"
   ]
  },
  {
   "source": [
    "Needed to add the project path to the sys.path in order for it to recognise the import module."
   ],
   "cell_type": "markdown",
   "metadata": {}
  },
  {
   "source": [
    "The below was used to develop the code to call the elevation data from within the class stucture."
   ],
   "cell_type": "markdown",
   "metadata": {}
  },
  {
   "cell_type": "code",
   "execution_count": 11,
   "metadata": {},
   "outputs": [
    {
     "output_type": "stream",
     "name": "stdout",
     "text": [
      "{ODBC Driver 17 for SQL Server}\n",
      "<pyodbc.Cursor object at 0x00000291860AB2B0>\n"
     ]
    }
   ],
   "source": [
    "import sys\n",
    "import os\n",
    "sys.path.append(os.environ.get(\"PYTHONPATH\"))\n",
    "\n",
    "import createNewData.data.config as in_config\n",
    "from createNewData.pyPackages.Azure import Azure\n",
    "\n",
    "SqlDataCursor = Azure(in_config).AzureDBConnect()\n",
    "\n",
    "print(SqlDataCursor)\n",
    "SqlDataCursor.close()"
   ]
  },
  {
   "cell_type": "code",
   "execution_count": null,
   "metadata": {},
   "outputs": [],
   "source": []
  }
 ]
}